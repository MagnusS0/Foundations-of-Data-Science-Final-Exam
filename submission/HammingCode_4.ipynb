{
 "cells": [
  {
   "cell_type": "markdown",
   "metadata": {},
   "source": [
    "Write a simple Hamming encoder program in Python, which, when given a 4-bit binary value, returns the resulting 7-bit binary vector codeword. \n",
    "Also implement the parity check functionality to see if there are any errors, that is to check whether H ∗ cw = 0 holds, where is zero vector."
   ]
  },
  {
   "cell_type": "markdown",
   "metadata": {},
   "source": [
    "Hamming Class or encoding, decoding, parity check"
   ]
  },
  {
   "cell_type": "code",
   "execution_count": 83,
   "metadata": {},
   "outputs": [],
   "source": [
    "import numpy as np\n",
    "import random"
   ]
  },
  {
   "cell_type": "code",
   "execution_count": 166,
   "metadata": {},
   "outputs": [],
   "source": [
    "class Support:\n",
    "    \"\"\"\n",
    "    Support class with utility methods for Hamming Code operations.\n",
    "    \"\"\"\n",
    "\n",
    "    @staticmethod\n",
    "    def create_random_vector():\n",
    "        \"\"\"\n",
    "        Generate a random 4-bit vector.\n",
    "\n",
    "        Returns:\n",
    "            np.ndarray: Random 4-bit vector.\n",
    "        \"\"\"\n",
    "        # Use NumPy's randint to generate a random vector of size 4 with elements in the range [0, 2).\n",
    "        # This range ensures the generated bits are either 0 or 1.\n",
    "        random_vector = np.random.randint(0, 2, size=4)\n",
    "        return random_vector\n",
    "\n",
    "    @staticmethod\n",
    "    def check_input(codeword, input_length):\n",
    "        \"\"\"\n",
    "        Check if the input satisfies the requirements for Hamming Code operations.\n",
    "\n",
    "        Args:\n",
    "            codeword (int, list, str, np.ndarray): Input to be validated.\n",
    "            input_length (int): Expected length of the input array.\n",
    "\n",
    "        Returns:\n",
    "            np.ndarray: Validated and converted input array.\n",
    "\n",
    "        Raises:\n",
    "            TypeError: If the input type is not int, list, str, or np.ndarray.\n",
    "            ValueError: If input requirements are not met.\n",
    "        \"\"\"\n",
    "        # Ensure that the input 'codeword' is of a valid type: integer, list, or NumPy array\n",
    "        if not isinstance(codeword, (list, np.ndarray, str)):\n",
    "            # Raise a TypeError if the input is not one of the allowed types: integer, list, string, or NumPy array\n",
    "            raise TypeError(\"The input must be a list, a string, or a NumPy array.\")\n",
    "\n",
    "        # If 'codeword' is of string type, remove any white spaces\n",
    "        if isinstance(codeword, str):\n",
    "            codeword = codeword.replace(\" \", \"\")\n",
    "            # Verify that the string comprises only numerical digits\n",
    "            if not codeword.isdigit():\n",
    "                raise ValueError(\"String input must contain only digits.\")\n",
    "            # Convert the string of digits into a list of integers\n",
    "            codeword = [int(digit) for digit in codeword]\n",
    "\n",
    "        # Ensure 'codeword' is represented as a NumPy array and attempting conversion if needed\n",
    "        if not isinstance(codeword, np.ndarray):\n",
    "            try:\n",
    "                codeword = np.array(codeword)\n",
    "            except Exception as e:\n",
    "                raise ValueError(f\"Failed to convert input to a NumPy array: {e}\")\n",
    "\n",
    "        # Ensure that the size of 'codeword' matches the expected input length\n",
    "        if codeword.size != input_length:\n",
    "            raise ValueError(f\"The input array must have a size of {input_length}.\")\n",
    "\n",
    "        # Ensure that the elements of 'codeword' are integers\n",
    "        if not np.issubdtype(codeword.dtype, np.integer):\n",
    "            raise ValueError(\"The input array must contain only integers.\")\n",
    "\n",
    "        # Ensure that the elements of 'codeword' are either 0 or 1 (binary digits)\n",
    "        if not np.all(np.isin(codeword, [0, 1])):\n",
    "            raise ValueError(\"The input array must contain only 0s and 1s.\")\n",
    "\n",
    "        return codeword\n",
    "\n",
    "    @staticmethod\n",
    "    def bitflip_rand(codeword, number_of_bits_to_flip):\n",
    "        \"\"\"\n",
    "        Flip a specified number of random bits in the input array 'codeword'.\n",
    "\n",
    "        Args:\n",
    "            codeword (np.ndarray): Input array.\n",
    "            number_of_bits_to_flip (int): Number of bits to flip.\n",
    "\n",
    "        Returns:\n",
    "            np.ndarray: Input array with flipped bits.\n",
    "\n",
    "        Raises:\n",
    "            ValueError: If the number_of_bits_to_flip is greater than 2.\n",
    "        \"\"\"\n",
    "        # Validate and convert the input array to ensure it adheres to the Hamming Code requirements\n",
    "        codeword = Support.check_input(codeword, 7)\n",
    "        \n",
    "        # Validate the number_of_bits_to_flip to ensure it aligns with the limitations of the Hamming Code algorithm\n",
    "        if number_of_bits_to_flip > 2:\n",
    "            raise ValueError(\"The Hamming Code only allows detecting at most two bitflips.\")\n",
    "        elif number_of_bits_to_flip <= 0:\n",
    "            raise ValueError(\"The number of bits should be 1 or 2.\")\n",
    "        else:\n",
    "            flipped_bits = set()\n",
    "        \n",
    "            while True:\n",
    "                # Randomly choose an index i in the range [0, 6]\n",
    "                i = random.randint(0, 6)\n",
    "                # Flip the bit at index i if it has not been flipped before\n",
    "                if i not in flipped_bits:\n",
    "                    flipped_bits.add(i)\n",
    "                    # Create a copy of the array before modifying it\n",
    "                    codeword = codeword.copy()\n",
    "                    codeword[i] = 1 - codeword[i]\n",
    "                # Break the loop if the number of flipped bits matches the number_of_bits_to_flip\n",
    "                if len(flipped_bits) == number_of_bits_to_flip:\n",
    "                    break\n",
    "        return codeword\n",
    "\n",
    "    @staticmethod\n",
    "    def bitflip_specific(codeword, bit_to_flip):\n",
    "        \"\"\"\n",
    "        Flip a specific bit in the input array.\n",
    "\n",
    "        Args:\n",
    "            codeword (np.ndarray): Input array.\n",
    "            bit_to_flip (int): Index of the bit to flip.\n",
    "\n",
    "        Returns:\n",
    "            np.ndarray: Input array with the specified bit flipped.\n",
    "\n",
    "        Raises:\n",
    "            ValueError: If bit_to_flip is greater than 6 (out of bounds).\n",
    "        \"\"\"\n",
    "        # Validate and convert the input array to ensure it adheres to the Hamming Code requirements\n",
    "        codeword = Support.check_input(codeword, 7)\n",
    "        # Ensure the specified bit index is within the valid range (0 to 6 inclusive)\n",
    "        if bit_to_flip > 6:\n",
    "            raise ValueError(\"The codeword has only 7 bits.\")\n",
    "        else:\n",
    "            # Flip the bit at specified index in the input array\n",
    "            codeword[bit_to_flip] = 1 - codeword[bit_to_flip]\n",
    "        return codeword\n"
   ]
  },
  {
   "cell_type": "code",
   "execution_count": 15,
   "metadata": {},
   "outputs": [
    {
     "name": "stdout",
     "output_type": "stream",
     "text": [
      "[0 1 1 1]\n"
     ]
    },
    {
     "data": {
      "text/plain": [
       "array([0, 0, 0, 0, 1, 0, 1])"
      ]
     },
     "execution_count": 15,
     "metadata": {},
     "output_type": "execute_result"
    }
   ],
   "source": [
    "ex1 = Support()\n",
    "victor = ex1.create_random_vector()\n",
    "print(victor)\n",
    "ex1.check_input(1010101, 7)\n",
    "ex1.bitflip_rand(1010101, 2)"
   ]
  },
  {
   "cell_type": "code",
   "execution_count": 85,
   "metadata": {},
   "outputs": [],
   "source": [
    "class Hamming:\n",
    "    \"\"\"\n",
    "    Class for encoding, decoding, and checking Hamming codes.\n",
    "    \"\"\"\n",
    "    # GeneratorMatrix (G)\n",
    "    G = np.array([[1, 1, 0, 1],\n",
    "                  [1, 0, 1, 1],\n",
    "                  [1, 0, 0, 0],\n",
    "                  [0, 1, 1, 1],\n",
    "                  [0, 1, 0, 0],\n",
    "                  [0, 0, 1, 0],\n",
    "                  [0, 0, 0, 1]])\n",
    "    \n",
    "    # ParityCheckMatrix (H)\n",
    "    H = np.array([[1, 0, 1, 0, 1, 0, 1],\n",
    "                  [0, 1, 1, 0, 0, 1, 1],\n",
    "                  [0, 0, 0, 1, 1, 1, 1]])\n",
    "    \n",
    "    # DecoderMatrix (R)\n",
    "    R = np.array([[0, 0, 1, 0, 0, 0, 0],\n",
    "                  [0, 0, 0, 0, 1, 0, 0],\n",
    "                  [0, 0, 0, 0, 0, 1, 0],\n",
    "                  [0, 0, 0, 0, 0, 0, 1]])\n",
    "\n",
    "    @staticmethod\n",
    "    def encoder(input):\n",
    "        \"\"\"\n",
    "        Encode a 4-bit vector into a 7-bit codeword using the Generator Matrix (G).\n",
    "\n",
    "        Args:\n",
    "            input (int, list, str, np.ndarray): 4-bit vector to be encoded.\n",
    "\n",
    "        Returns:\n",
    "            np.ndarray: 7-bit codeword.\n",
    "        \"\"\"\n",
    "        # Validate and convert the input array to ensure it adheres to the Hamming Code requirements\n",
    "        input = Support().check_input(input, 4)\n",
    "        # Use the Generator Matrix (G) to perform the encoding\n",
    "        codeword = np.matmul(Hamming.G, input) % 2\n",
    "        # Display the resulting 7-bit codeword\n",
    "        print(f'The 7-bit codeword is {codeword}.')\n",
    "        return codeword\n",
    "    \n",
    "    @staticmethod\n",
    "    def parity_check(codeword):\n",
    "        \"\"\"\n",
    "        Perform a parity check on a 7-bit codeword using the Parity-check Matrix (H).\n",
    "\n",
    "        Args:\n",
    "            codeword (int, list, str, np.ndarray): 7-bit codeword to be checked.\n",
    "\n",
    "        Returns:\n",
    "            dict: A dictionary containing the results of the parity check analysis, including the error syndrome,\n",
    "            sum of the error syndrome, and the status of the error.\n",
    "        \"\"\"\n",
    "        # Validate and convert the input array to ensure it adheres to the Hamming Code requirements\n",
    "        codeword = Support.check_input(codeword, 7)\n",
    "        # Calculate the error syndrome using the Parity-check Matrix (H)\n",
    "        error_syndrome = np.matmul(Hamming.H, codeword) % 2\n",
    "        print(f'The error vector is {error_syndrome}.')\n",
    "        # Calculate the sum of the error syndrome elements\n",
    "        sum_error_syndrome = np.sum(error_syndrome)\n",
    "\n",
    "        # Create a dictionary to store the results of the parity check analysis\n",
    "        results_dict = {'Error syndrome': error_syndrome.tolist(), 'Sum of the Error syndrome': sum_error_syndrome}\n",
    "\n",
    "        # Analyze the error syndrome and provide appropriate messages\n",
    "        if sum_error_syndrome == 0:\n",
    "            results_dict['Status'] = 'No Error'\n",
    "            print('There was no error occurring upon code transmission.')\n",
    "        elif sum_error_syndrome == 1:\n",
    "            results_dict['Status'] = 'Uncorrectable Error. The bitflip cannot be recovered'\n",
    "            print('There was an uncorrectable error in the codeword due to an error in a parity bit or two errors in data bits.')\n",
    "        # If the sum of error syndrome elements is 2 or 3, the error can be corrected\n",
    "        else: \n",
    "            # Transpose the matrix to facilitate comparison of error syndrome with transposed rows\n",
    "            transposed_parity = Hamming.H.transpose()\n",
    "            # Convert the matrix to a list for index function usage\n",
    "            list_parity = transposed_parity.tolist()\n",
    "            # Find the index of the error syndrome in the transposed matrix\n",
    "            list_parity_index = list_parity.index(error_syndrome.tolist())\n",
    "            # Add 1 to the index to get the correct row number, indicating the position of bitflip.\n",
    "            bitflip_pos = list_parity_index + 1\n",
    "            results_dict['Status'] = 'Correctable Error. The bitflip can be recovered'\n",
    "            print(f'There was an error occurring upon code transmission and the error can be corrected.\\nThe Bitflip occurred at the {bitflip_pos}th position.')\n",
    "        return results_dict\n",
    "\n",
    "    @staticmethod\n",
    "    def decoder(codeword):\n",
    "        \"\"\"\n",
    "        Decode a 7-bit codeword into the original 4-bit vector, correcting errors if possible.\n",
    "\n",
    "        Args:\n",
    "            codeword (int, list, str, np.ndarray): 7-bit codeword to be decoded.\n",
    "\n",
    "        Returns:\n",
    "            np.ndarray: The original 4-bit vector obtained after decoding the input codeword.\n",
    "        \"\"\"\n",
    "        # Validate and convert the input array to ensure it adheres to the Hamming Code requirements\n",
    "        codeword = Support().check_input(codeword, 7)\n",
    "        # Calculate the error syndrome by multiplying the Parity Check Matrix (H) with the codeword\n",
    "        error_syndrome = np.matmul(Hamming.H, codeword) % 2\n",
    "        sum_error_syndrome = np.sum(error_syndrome)\n",
    "\n",
    "        binary_decoded = None\n",
    "\n",
    "        if sum_error_syndrome == 0:\n",
    "            print('There is no bitflip error in the codeword to be corrected.')\n",
    "            # Use the Decoder Matrix (R) to obtain the original 4-bit vector\n",
    "            binary_decoded = np.matmul(Hamming.R, codeword) % 2\n",
    "            print(f'The original 4-bit vector is {binary_decoded}.')\n",
    "        elif sum_error_syndrome == 1:\n",
    "            print('There was an error in the codeword due to an error in a parity bit or two errors in data bits. In both cases, the codeword cannot be decoded.')\n",
    "        # If the sum_error_syndrome is either 2 or 3, indicating the codeword can be decoded\n",
    "        else: \n",
    "            # Transpose the matrix to be able to compare our error syndrome with the rows of the transposed matrix\n",
    "            transposed_parity = Hamming.H.transpose()\n",
    "            # Convert the matrix to a list for index function usage\n",
    "            list_parity = transposed_parity.tolist()\n",
    "            # Find the index of the error syndrome in the transposed matrix\n",
    "            list_parity_index = list_parity.index(error_syndrome.tolist())\n",
    "            # Add 1 to the index to get the correct row number, indicating the position of bitflip.\n",
    "            bitflip_pos = list_parity_index + 1\n",
    "            print(f'The bit at position {bitflip_pos} was flipped.')\n",
    "\n",
    "            # Correct the bit at the identified position of the bitflip\n",
    "            if codeword[bitflip_pos - 1] == 0:\n",
    "                codeword[bitflip_pos - 1] = 1\n",
    "            else:\n",
    "                codeword[bitflip_pos - 1] = 0\n",
    "            print(f'The corrected codeword is {codeword}.')\n",
    "            # Use the Decoder Matrix (R) to obtain the original 4-bit vector\n",
    "            binary_decoded = np.matmul(Hamming.R, codeword) % 2\n",
    "            print(f'The original 4-bit vector is {binary_decoded}.')\n",
    "        return binary_decoded"
   ]
  },
  {
   "cell_type": "code",
   "execution_count": 162,
   "metadata": {},
   "outputs": [
    {
     "name": "stdout",
     "output_type": "stream",
     "text": [
      "The 7-bit codeword is [0 0 1 1 0 0 1].\n",
      "The error vector is [0 0 0].\n",
      "There was no error occurring upon code transmission.\n",
      "There is no bitflip error in the codeword to be corrected.\n",
      "The original 4-bit vector is [1 0 0 1].\n"
     ]
    },
    {
     "data": {
      "text/plain": [
       "array([1, 0, 0, 1])"
      ]
     },
     "execution_count": 162,
     "metadata": {},
     "output_type": "execute_result"
    }
   ],
   "source": [
    "# Test 1 (Input given by user, encode, no bit flipped, parity check, decode)\n",
    "test1_sequence = [int(i) for i in str(1001)]\n",
    "test1 = Hamming()\n",
    "codeword1 = test1.encoder(test1_sequence)\n",
    "test1.parity_check(codeword1)\n",
    "test1.decoder(codeword1)"
   ]
  },
  {
   "cell_type": "code",
   "execution_count": 165,
   "metadata": {},
   "outputs": [
    {
     "name": "stdout",
     "output_type": "stream",
     "text": [
      "The 7-bit codeword is [0 0 1 1 0 0 1].\n",
      "The error vector is [1 1 0].\n",
      "There was an error occurring upon code transmission and the error can be corrected.\n",
      "The Bitflip occurred at the 3th position.\n",
      "The bit at position 3 was flipped.\n",
      "The corrected codeword is [0 0 1 1 0 0 1].\n",
      "The original 4-bit vector is [1 0 0 1].\n"
     ]
    },
    {
     "data": {
      "text/plain": [
       "array([1, 0, 0, 1])"
      ]
     },
     "execution_count": 165,
     "metadata": {},
     "output_type": "execute_result"
    }
   ],
   "source": [
    "# Test 2 (Input given by user, encode, flip 3rd bit (Index 2), parity check, decode)\n",
    "test2_sequence = [int(i) for i in str(1001)]\n",
    "test2 = Hamming()\n",
    "codeword2 = test2.encoder(test2_sequence)\n",
    "codeword2 = Support.bitflip_specific(codeword2, 2)\n",
    "test2.parity_check(codeword2)\n",
    "test2.decoder(codeword2)"
   ]
  },
  {
   "cell_type": "code",
   "execution_count": 167,
   "metadata": {},
   "outputs": [
    {
     "name": "stdout",
     "output_type": "stream",
     "text": [
      "The 7-bit codeword is [0 0 1 1 0 0 1].\n",
      "[1 0 0 1 0 0 1]\n",
      "The error vector is [0 1 0].\n",
      "There was an uncorrectable error in the codeword due to an error in a parity bit or two errors in data bits.\n",
      "There was an error in the codeword due to an error in a parity bit or two errors in data bits. In both cases, the codeword cannot be decoded.\n"
     ]
    }
   ],
   "source": [
    "# Test 3 (Input given by user, encode, flip two bits at random, parity check, (decode, not possible))\n",
    "# Will print messages (for parity check and decode functions) that the error is not correctable and hence,\n",
    "# cannot be decoded\n",
    "test3_sequence = [1, 0, 0, 1]\n",
    "test3 = Hamming()\n",
    "codeword3 = test3.encoder(test3_sequence)\n",
    "codeword3 = Support.bitflip_rand(codeword3, 2)\n",
    "print(codeword3)\n",
    "test3.parity_check(codeword3)\n",
    "test3.decoder(codeword3)"
   ]
  },
  {
   "cell_type": "code",
   "execution_count": null,
   "metadata": {},
   "outputs": [],
   "source": [
    "#Test 4 (Input given by user, encode, flip three bits at random (not possible), parity check, (decode, not possible))\n",
    "# Will raise ValueError since the Hamming code only allows detection of at most two bitflips\n",
    "test4_sequence = [int(i) for i in str(1001)]\n",
    "test4 = Hamming()\n",
    "codeword4 = test4.encoder(test4_sequence)\n",
    "codeword4 = Support.bitflip_rand(codeword4, 3)\n",
    "print(codeword4)\n"
   ]
  },
  {
   "cell_type": "code",
   "execution_count": 149,
   "metadata": {},
   "outputs": [
    {
     "name": "stdout",
     "output_type": "stream",
     "text": [
      "The 7-bit codeword is [1 0 1 0 1 0 1].\n",
      "The error vector is [0 0 0].\n",
      "There was no error occurring upon code transmission.\n",
      "There is no bitflip error in the codeword to be corrected.\n",
      "The original 4-bit vector is [1 1 0 1].\n"
     ]
    }
   ],
   "source": [
    "# Test 5 (Input given by user, encode, no bit flipped, parity check, decode)\n",
    "# Will work as intended\n",
    "test5_sequence = [1, 1, 0, 1]\n",
    "test5 = Hamming()\n",
    "codeword5 = test5.encoder(test5_sequence)\n",
    "test5.parity_check(codeword5)\n",
    "codeword5 = test5.decoder(codeword5)"
   ]
  },
  {
   "cell_type": "code",
   "execution_count": null,
   "metadata": {},
   "outputs": [],
   "source": [
    "# Test 6 (Input given by user is too long (5 digits), encode, no bit flipped, parity check, decode)\n",
    "# Will raise ValueError since (7,4)-algorithm merely allows for encoding 4-bit vectors (not 5-bit vectors)\n",
    "test6_sequence = [1, 0, 0, 1, 1]\n",
    "test6 = Hamming()\n",
    "codeword6 = test6.encoder(test6_sequence)"
   ]
  },
  {
   "cell_type": "code",
   "execution_count": 144,
   "metadata": {},
   "outputs": [
    {
     "name": "stdout",
     "output_type": "stream",
     "text": [
      "[0 1 0 1]\n",
      "The 7-bit codeword is [0 1 0 0 1 0 1].\n",
      "The error vector is [0 0 0].\n",
      "There was no error occurring upon code transmission.\n",
      "There is no bitflip error in the codeword to be corrected.\n",
      "The original 4-bit vector is [0 1 0 1].\n"
     ]
    },
    {
     "data": {
      "text/plain": [
       "array([0, 1, 0, 1])"
      ]
     },
     "execution_count": 144,
     "metadata": {},
     "output_type": "execute_result"
    }
   ],
   "source": [
    "# Test 7 (Input is randomly created, encode, no bit flipped, parity check, decode)\n",
    "# Will work as intended\n",
    "# Other functionalities that could be tested, regarding bitflip creation, etc., would work accordig to other test above and hence, as intended\n",
    "test7_sequence = Support.create_random_vector()\n",
    "print(test7_sequence)\n",
    "test7 = Hamming()\n",
    "codeword7 = test7.encoder(test7_sequence)\n",
    "test7.parity_check(codeword7)\n",
    "test7.decoder(codeword7)"
   ]
  },
  {
   "cell_type": "code",
   "execution_count": 140,
   "metadata": {},
   "outputs": [
    {
     "name": "stdout",
     "output_type": "stream",
     "text": [
      "The 7-bit codeword is [0 0 0 0 0 0 0].\n",
      "The error vector is [0 0 0].\n",
      "There was no error occurring upon code transmission.\n",
      "There is no bitflip error in the codeword to be corrected.\n",
      "The original 4-bit vector is [0 0 0 0].\n"
     ]
    },
    {
     "data": {
      "text/plain": [
       "array([0, 0, 0, 0])"
      ]
     },
     "execution_count": 140,
     "metadata": {},
     "output_type": "execute_result"
    }
   ],
   "source": [
    "# Test 8 (Input is only 0s)\n",
    "test8_sequence = [0, 0, 0, 0]\n",
    "test8 = Hamming()\n",
    "codeword8 = test8.encoder(test8_sequence)\n",
    "test8.parity_check(codeword8)\n",
    "test8.decoder(codeword8)"
   ]
  },
  {
   "cell_type": "code",
   "execution_count": 136,
   "metadata": {},
   "outputs": [
    {
     "name": "stdout",
     "output_type": "stream",
     "text": [
      "The error vector is [0 0 0].\n",
      "There was no error occurring upon code transmission.\n"
     ]
    },
    {
     "data": {
      "text/plain": [
       "{'Error syndrome': [0, 0, 0],\n",
       " 'Sum of the Error syndrome': 0,\n",
       " 'Status': 'No Error'}"
      ]
     },
     "execution_count": 136,
     "metadata": {},
     "output_type": "execute_result"
    }
   ],
   "source": [
    "# Test 9 (Input only 0s, but directly for the parity check with 7 digits)\n",
    "# Valid output, i.e., function can potentially be used without prior encoding\n",
    "test9_sequence = [0, 0, 0, 0, 0, 0, 0]\n",
    "test9 = Hamming()\n",
    "test9.parity_check(test9_sequence)"
   ]
  },
  {
   "cell_type": "code",
   "execution_count": 134,
   "metadata": {},
   "outputs": [
    {
     "name": "stdout",
     "output_type": "stream",
     "text": [
      "The 7-bit codeword is [0 0 0 0 0 0 0].\n"
     ]
    },
    {
     "data": {
      "text/plain": [
       "array([0, 0, 0, 0, 0, 0, 0])"
      ]
     },
     "execution_count": 134,
     "metadata": {},
     "output_type": "execute_result"
    }
   ],
   "source": [
    "# Test 10 (Input is only 0s as string)\n",
    "test10_sequence = \"0000\"\n",
    "test10 = Hamming()\n",
    "test10.encoder(test10_sequence)"
   ]
  },
  {
   "cell_type": "code",
   "execution_count": 133,
   "metadata": {},
   "outputs": [
    {
     "name": "stdout",
     "output_type": "stream",
     "text": [
      "The 7-bit codeword is [1 1 1 1 1 1 1].\n",
      "The error vector is [0 0 0].\n",
      "There was no error occurring upon code transmission.\n",
      "There is no bitflip error in the codeword to be corrected.\n",
      "The original 4-bit vector is [1 1 1 1].\n"
     ]
    },
    {
     "data": {
      "text/plain": [
       "array([1, 1, 1, 1])"
      ]
     },
     "execution_count": 133,
     "metadata": {},
     "output_type": "execute_result"
    }
   ],
   "source": [
    "# Test 11 (Input is only 1s)\n",
    "test11_sequence = [1, 1, 1, 1]\n",
    "test11 = Hamming()\n",
    "codeword11 = test11.encoder(test11_sequence)\n",
    "Support.check_input(codeword11, 7)\n",
    "test11.parity_check(codeword11)\n",
    "test11.decoder(codeword11)"
   ]
  },
  {
   "cell_type": "code",
   "execution_count": 155,
   "metadata": {},
   "outputs": [
    {
     "ename": "SyntaxError",
     "evalue": "leading zeros in decimal integer literals are not permitted; use an 0o prefix for octal integers (976925702.py, line 4)",
     "output_type": "error",
     "traceback": [
      "\u001b[0;36m  Cell \u001b[0;32mIn[155], line 4\u001b[0;36m\u001b[0m\n\u001b[0;31m    test11_sequence = 0110\u001b[0m\n\u001b[0m                      ^\u001b[0m\n\u001b[0;31mSyntaxError\u001b[0m\u001b[0;31m:\u001b[0m leading zeros in decimal integer literals are not permitted; use an 0o prefix for octal integers\n"
     ]
    }
   ],
   "source": [
    "# Test 12 (Input is leading 0 (i.e., 0110, wihch cannot be handeld by Python)\n",
    "# Will throw error message since leading zeros for integers are not permitted\n",
    "# Moreover, in Support class above specified, that not of valid input type\n",
    "test12_sequence = 0110\n",
    "test12 = Hamming()\n",
    "test12.encoder(test12_sequence)\n",
    "print(test12)"
   ]
  },
  {
   "cell_type": "code",
   "execution_count": null,
   "metadata": {},
   "outputs": [],
   "source": [
    "# Test 13 (Input given as an integer, encode)\n",
    "# Will throw an error since input not given as valid format (list, string, np.array)\n",
    "test13_sequence = 1001\n",
    "test13 = Hamming()\n",
    "codeword13 = test13.encoder(test13_sequence)"
   ]
  },
  {
   "cell_type": "code",
   "execution_count": 168,
   "metadata": {},
   "outputs": [
    {
     "name": "stdout",
     "output_type": "stream",
     "text": [
      "[1 0 1 1]\n",
      "[1 0 0 1 1]\n",
      "[1 0 1 1]\n",
      "[1 0 1 1]\n"
     ]
    }
   ],
   "source": [
    "# Cases for testing the check_input function\n",
    "print(Support.check_input([1, 0, 1, 1], 4))\n",
    "print(Support.check_input([1, 0, 0, 1, 1], 5)) # array can be created (for other use cases the user wants to test), but not encoded due to input check at the beginning of encoder function\n",
    "print(Support.check_input(np.array([1, 0, 1, 1]), 4))\n",
    "print(Support.check_input(\"1 0 1 1\", 4))"
   ]
  },
  {
   "cell_type": "code",
   "execution_count": 169,
   "metadata": {},
   "outputs": [
    {
     "name": "stdout",
     "output_type": "stream",
     "text": [
      "[0 0 0 1]\n",
      "The 7-bit codeword is [1 1 0 1 0 0 1].\n",
      "The 7-bit codeword is [1 1 0 1 0 0 1].\n"
     ]
    },
    {
     "data": {
      "text/plain": [
       "array([1, 0, 0, 1, 1, 0, 1])"
      ]
     },
     "execution_count": 169,
     "metadata": {},
     "output_type": "execute_result"
    }
   ],
   "source": [
    "# Tests for testing functions of Support class indivdually\n",
    "sup1 = Support()\n",
    "first_vector = sup1.create_random_vector()\n",
    "print(first_vector)\n",
    "sup1.check_input(Hamming.encoder(first_vector), 7)\n",
    "sup1.bitflip_rand(Hamming.encoder(first_vector), 2)"
   ]
  }
 ],
 "metadata": {
  "kernelspec": {
   "display_name": "base",
   "language": "python",
   "name": "python3"
  },
  "language_info": {
   "codemirror_mode": {
    "name": "ipython",
    "version": 3
   },
   "file_extension": ".py",
   "mimetype": "text/x-python",
   "name": "python",
   "nbconvert_exporter": "python",
   "pygments_lexer": "ipython3",
   "version": "3.11.4"
  }
 },
 "nbformat": 4,
 "nbformat_minor": 2
}
