{
 "cells": [
  {
   "cell_type": "markdown",
   "metadata": {},
   "source": [
    "Write a simple Hamming encoder program in Python, which, when given a 4-bit binary value, returns the resulting 7-bit binary vector codeword. \n",
    "Also implement the parity check functionality to see if there are any errors, that is to check whether H ∗ cw = 0 holds, where is zero vector."
   ]
  },
  {
   "cell_type": "markdown",
   "metadata": {},
   "source": [
    "Hamming Class or encoding, decoding, parity check"
   ]
  },
  {
   "cell_type": "code",
   "execution_count": 95,
   "metadata": {},
   "outputs": [],
   "source": [
    "import numpy as np\n",
    "import random\n",
    "# set random  seed\n",
    "random.seed(42)"
   ]
  },
  {
   "cell_type": "code",
   "execution_count": 103,
   "metadata": {},
   "outputs": [],
   "source": [
    "class Support:\n",
    "    \"\"\"\n",
    "    Support class with utility methods for Hamming Code operations.\n",
    "    \"\"\"\n",
    "\n",
    "    @staticmethod\n",
    "    def create_random_vector():\n",
    "        \"\"\"\n",
    "        Generate a random 4-bit vector.\n",
    "\n",
    "        Returns:\n",
    "            np.ndarray: Random 4-bit vector.\n",
    "        \"\"\"\n",
    "        # Use NumPy's randint to generate a random vector of size 4 with elements in the range [0, 2).\n",
    "        # This range ensures the generated bits are either 0 or 1.\n",
    "        random_vector = np.random.randint(0, 2, size=4)\n",
    "        return random_vector\n",
    "\n",
    "    @staticmethod\n",
    "    def check_input(codeword, input_length):\n",
    "        \"\"\"\n",
    "        Check if the input satisfies the requirements for Hamming Code operations.\n",
    "\n",
    "        Args:\n",
    "            codeword (int, list, str, np.ndarray): Input to be validated.\n",
    "            input_length (int): Expected length of the input array.\n",
    "\n",
    "        Returns:\n",
    "            np.ndarray: Validated and converted input array.\n",
    "\n",
    "        Raises:\n",
    "            TypeError: If the input type is not int, list, str, or np.ndarray.\n",
    "            ValueError: If input requirements are not met.\n",
    "        \"\"\"\n",
    "        # Ensure that the input 'codeword' is of a valid type: integer, list, or NumPy array\n",
    "        if not isinstance(codeword, (list, np.ndarray, str)):\n",
    "            # Raise a TypeError if the input is not one of the allowed types: integer, list, string, or NumPy array\n",
    "            raise TypeError(\"The input must be a list, a string, or a NumPy array.\")\n",
    "\n",
    "        # If 'codeword' is of string type, remove any white spaces\n",
    "        if isinstance(codeword, str):\n",
    "            codeword = codeword.replace(\" \", \"\")\n",
    "            # Verify that the string comprises only numerical digits\n",
    "            if not codeword.isdigit():\n",
    "                raise ValueError(\"String input must contain only digits.\")\n",
    "            # Convert the string of digits into a list of integers\n",
    "            codeword = [int(digit) for digit in codeword]\n",
    "\n",
    "        # Ensure 'codeword' is represented as a NumPy array and attempting conversion if needed\n",
    "        if not isinstance(codeword, np.ndarray):\n",
    "            try:\n",
    "                codeword = np.array(codeword)\n",
    "            except Exception as e:\n",
    "                raise ValueError(f\"Failed to convert input to a NumPy array: {e}\")\n",
    "\n",
    "        # Ensure that the size of 'codeword' matches the expected input length\n",
    "        if codeword.size != input_length:\n",
    "            raise ValueError(f\"The input array must have a size of {input_length}.\")\n",
    "\n",
    "        # Ensure that the elements of 'codeword' are integers\n",
    "        if not np.issubdtype(codeword.dtype, np.integer):\n",
    "            raise ValueError(\"The input array must contain only integers.\")\n",
    "\n",
    "        # Ensure that the elements of 'codeword' are either 0 or 1 (binary digits)\n",
    "        if not np.all(np.isin(codeword, [0, 1])):\n",
    "            raise ValueError(\"The input array must contain only 0s and 1s.\")\n",
    "        return codeword\n",
    "\n",
    "    @staticmethod\n",
    "    def bitflip_rand(codeword, number_of_bits_to_flip):\n",
    "        \"\"\"\n",
    "        Flip a specified number of random bits in the input array 'codeword'.\n",
    "\n",
    "        Args:\n",
    "            codeword (np.ndarray): Input array.\n",
    "            number_of_bits_to_flip (int): Number of bits to flip.\n",
    "\n",
    "        Returns:\n",
    "            np.ndarray: Input array with flipped bits.\n",
    "\n",
    "        Raises:\n",
    "            ValueError: If the number_of_bits_to_flip is greater than 2.\n",
    "        \"\"\"\n",
    "        # Validate and convert the input array to ensure it adheres to the Hamming Code requirements\n",
    "        codeword = Support.check_input(codeword, 7)\n",
    "        \n",
    "        # Validate the number_of_bits_to_flip to ensure it aligns with the limitations of the Hamming Code algorithm\n",
    "        if number_of_bits_to_flip > 2:\n",
    "            raise ValueError(\"The Hamming Code only allows detecting at most two bitflips.\")\n",
    "        elif number_of_bits_to_flip <= 0:\n",
    "            raise ValueError(\"The number of bits should be 1 or 2.\")\n",
    "        \n",
    "        \n",
    "        # Generate a list of unique indices representing bit positions\n",
    "        available_positions = list(range(7))\n",
    "        flipped_bits = random.sample(available_positions, number_of_bits_to_flip)\n",
    "\n",
    "        # Flip the bits at the selected positions\n",
    "        for i in flipped_bits:\n",
    "            codeword[i] = 1 - codeword[i]\n",
    "        \n",
    "        # else:\n",
    "\n",
    "        #     flipped_bits = set()\n",
    "\n",
    "\n",
    "        #     for x in range(number_of_bits_to_flip):\n",
    "        \n",
    "        #         while len(flipped_bits) < number_of_bits_to_flip:\n",
    "        #             # Randomly choose an index i in the range [0, 6]\n",
    "        #             i = random.randint(0, 6)\n",
    "        #             # Flip the bit at index i if it has not been flipped before\n",
    "        #             if i not in flipped_bits:\n",
    "        #                 flipped_bits.add(i)\n",
    "        #                 # Create a copy of the array before modifying it to ensure in-place modifications do not affect the original array.\n",
    "        #                 codeword = codeword.copy()\n",
    "        #                 codeword[i] = 1 - codeword[i]\n",
    "        #             # Break the loop if the number of flipped bits matches the number_of_bits_to_flip\n",
    "        #             #if len(flipped_bits) == number_of_bits_to_flip:\n",
    "        #                 break\n",
    "        return codeword\n",
    "\n",
    "    @staticmethod\n",
    "    def bitflip_specific(codeword, bit_to_flip):\n",
    "        \"\"\"\n",
    "        Flip a specific bit in the input array.\n",
    "\n",
    "        Args:\n",
    "            codeword (np.ndarray): Input array.\n",
    "            bit_to_flip (int): Index of the bit to flip.\n",
    "\n",
    "        Returns:\n",
    "            np.ndarray: Input array with the specified bit flipped.\n",
    "\n",
    "        Raises:\n",
    "            ValueError: If bit_to_flip is greater than 6 (out of bounds).\n",
    "        \"\"\"\n",
    "        # Validate and convert the input array to ensure it adheres to the Hamming Code requirements\n",
    "        codeword = Support.check_input(codeword, 7)\n",
    "        # Ensure the specified bit index is within the valid range (0 to 6 inclusive)\n",
    "        if bit_to_flip > 6:\n",
    "            raise ValueError(\"The codeword has only 7 bits.\")\n",
    "        else:\n",
    "            # Flip the bit at specified index in the input array\n",
    "            codeword[bit_to_flip] = 1 - codeword[bit_to_flip]\n",
    "        return codeword\n"
   ]
  },
  {
   "cell_type": "code",
   "execution_count": 97,
   "metadata": {},
   "outputs": [],
   "source": [
    "class Hamming:\n",
    "    \"\"\"\n",
    "    Class for encoding, decoding, and checking Hamming codes.\n",
    "    \"\"\"\n",
    "    # GeneratorMatrix (G)\n",
    "    G = np.array([[1, 1, 0, 1],\n",
    "                  [1, 0, 1, 1],\n",
    "                  [1, 0, 0, 0],\n",
    "                  [0, 1, 1, 1],\n",
    "                  [0, 1, 0, 0],\n",
    "                  [0, 0, 1, 0],\n",
    "                  [0, 0, 0, 1]])\n",
    "    \n",
    "    # ParityCheckMatrix (H)\n",
    "    H = np.array([[1, 0, 1, 0, 1, 0, 1],\n",
    "                  [0, 1, 1, 0, 0, 1, 1],\n",
    "                  [0, 0, 0, 1, 1, 1, 1]])\n",
    "    \n",
    "    # DecoderMatrix (R)\n",
    "    R = np.array([[0, 0, 1, 0, 0, 0, 0],\n",
    "                  [0, 0, 0, 0, 1, 0, 0],\n",
    "                  [0, 0, 0, 0, 0, 1, 0],\n",
    "                  [0, 0, 0, 0, 0, 0, 1]])\n",
    "\n",
    "    @staticmethod\n",
    "    def encoder(input):\n",
    "        \"\"\"\n",
    "        Encode a 4-bit vector into a 7-bit codeword using the Generator Matrix (G).\n",
    "\n",
    "        Args:\n",
    "            input (int, list, str, np.ndarray): 4-bit vector to be encoded.\n",
    "\n",
    "        Returns:\n",
    "            np.ndarray: 7-bit codeword.\n",
    "        \"\"\"\n",
    "        # Validate and convert the input array to ensure it adheres to the Hamming Code requirements\n",
    "        input = Support().check_input(input, 4)\n",
    "        # Use the Generator Matrix (G) to perform the encoding\n",
    "        codeword = np.matmul(Hamming.G, input) % 2\n",
    "        # Display the resulting 7-bit codeword\n",
    "        print(f'The 7-bit codeword is {codeword}.')\n",
    "        return codeword\n",
    "    \n",
    "    @staticmethod\n",
    "    def parity_check(codeword):\n",
    "        \"\"\"\n",
    "        Perform a parity check on a 7-bit codeword using the Parity-check Matrix (H).\n",
    "\n",
    "        Args:\n",
    "            codeword (int, list, str, np.ndarray): 7-bit codeword to be checked.\n",
    "\n",
    "        Returns:\n",
    "            dict: A dictionary containing the results of the parity check analysis, including the error syndrome,\n",
    "            sum of the error syndrome, and the status of the error.\n",
    "        \"\"\"\n",
    "        # Validate and convert the input array to ensure it adheres to the Hamming Code requirements\n",
    "        codeword = Support.check_input(codeword, 7)\n",
    "        # Calculate the error syndrome using the Parity-check Matrix (H)\n",
    "        error_syndrome = np.matmul(Hamming.H, codeword) % 2\n",
    "        print(f'The error vector is {error_syndrome}.')\n",
    "        # Calculate the sum of the error syndrome elements\n",
    "        sum_error_syndrome = np.sum(error_syndrome)\n",
    "\n",
    "        # Create a dictionary to store the results of the parity check analysis\n",
    "        results_dict = {'Error syndrome': error_syndrome.tolist(), 'Sum of the Error syndrome': sum_error_syndrome}\n",
    "\n",
    "        # Analyze the error syndrome and provide appropriate messages\n",
    "        if sum_error_syndrome == 0:\n",
    "            results_dict['Status'] = 'No Error'\n",
    "            print('There was no error occurring upon code transmission.')\n",
    "        elif sum_error_syndrome == 1:\n",
    "            results_dict['Status'] = 'Uncorrectable Error. The bitflip cannot be recovered'\n",
    "            print('There was an uncorrectable error in the codeword due to an error in a parity bit or two errors in data bits.')\n",
    "        # If the sum of error syndrome elements is 2 or 3, the error can be corrected\n",
    "        else: \n",
    "            # Transpose the matrix to facilitate comparison of error syndrome with transposed rows\n",
    "            transposed_parity = Hamming.H.transpose()\n",
    "            # Convert the matrix to a list for index function usage\n",
    "            list_parity = transposed_parity.tolist()\n",
    "            # Find the index of the error syndrome in the transposed matrix\n",
    "            list_parity_index = list_parity.index(error_syndrome.tolist())\n",
    "            # Add 1 to the index to get the correct row number, indicating the position of bitflip.\n",
    "            bitflip_pos = list_parity_index + 1\n",
    "            results_dict['Status'] = 'Correctable Error. The bitflip can be recovered'\n",
    "            print(f'There was an error occurring upon code transmission and the error can be corrected.\\nThe Bitflip occurred at the {bitflip_pos}th position.')\n",
    "        return results_dict\n",
    "\n",
    "    @staticmethod\n",
    "    def decoder(codeword):\n",
    "        \"\"\"\n",
    "        Decode a 7-bit codeword into the original 4-bit vector, correcting errors if possible.\n",
    "\n",
    "        Args:\n",
    "            codeword (int, list, str, np.ndarray): 7-bit codeword to be decoded.\n",
    "\n",
    "        Returns:\n",
    "            np.ndarray: The original 4-bit vector obtained after decoding the input codeword.\n",
    "        \"\"\"\n",
    "        # Validate and convert the input array to ensure it adheres to the Hamming Code requirements\n",
    "        codeword = Support().check_input(codeword, 7)\n",
    "        # Calculate the error syndrome by multiplying the Parity Check Matrix (H) with the codeword\n",
    "        error_syndrome = np.matmul(Hamming.H, codeword) % 2\n",
    "        sum_error_syndrome = np.sum(error_syndrome)\n",
    "\n",
    "        binary_decoded = None\n",
    "\n",
    "        if sum_error_syndrome == 0:\n",
    "            print('There is no bitflip error in the codeword to be corrected.')\n",
    "            # Use the Decoder Matrix (R) to obtain the original 4-bit vector\n",
    "            binary_decoded = np.matmul(Hamming.R, codeword) % 2\n",
    "            print(f'The original 4-bit vector is {binary_decoded}.')\n",
    "        elif sum_error_syndrome == 1:\n",
    "            print('There was an error in the codeword due to an error in a parity bit or two errors in data bits. In both cases, the codeword cannot be decoded.')\n",
    "        # If the sum_error_syndrome is either 2 or 3, indicating the codeword can be decoded\n",
    "        else: \n",
    "            # Transpose the matrix to be able to compare our error syndrome with the rows of the transposed matrix\n",
    "            transposed_parity = Hamming.H.transpose()\n",
    "            # Convert the matrix to a list for index function usage\n",
    "            list_parity = transposed_parity.tolist()\n",
    "            # Find the index of the error syndrome in the transposed matrix\n",
    "            list_parity_index = list_parity.index(error_syndrome.tolist())\n",
    "            # Add 1 to the index to get the correct row number, indicating the position of bitflip.\n",
    "            bitflip_pos = list_parity_index + 1\n",
    "            print(f'The bit at position {bitflip_pos} was flipped.')\n",
    "\n",
    "            # Correct the bit at the identified position of the bitflip\n",
    "            if codeword[bitflip_pos - 1] == 0:\n",
    "                codeword[bitflip_pos - 1] = 1\n",
    "            else:\n",
    "                codeword[bitflip_pos - 1] = 0\n",
    "            print(f'The corrected codeword is {codeword}.')\n",
    "            # Use the Decoder Matrix (R) to obtain the original 4-bit vector\n",
    "            binary_decoded = np.matmul(Hamming.R, codeword) % 2\n",
    "            print(f'The original 4-bit vector is {binary_decoded}.')\n",
    "        return binary_decoded"
   ]
  },
  {
   "cell_type": "code",
   "execution_count": 5,
   "metadata": {},
   "outputs": [
    {
     "name": "stdout",
     "output_type": "stream",
     "text": [
      "The 7-bit codeword is [0 0 1 1 0 0 1].\n",
      "The error vector is [0 0 0].\n",
      "There was no error occurring upon code transmission.\n",
      "There is no bitflip error in the codeword to be corrected.\n",
      "The original 4-bit vector is [1 0 0 1].\n"
     ]
    },
    {
     "data": {
      "text/plain": [
       "array([1, 0, 0, 1])"
      ]
     },
     "execution_count": 5,
     "metadata": {},
     "output_type": "execute_result"
    }
   ],
   "source": [
    "# Test 1 (Input given by user, encode, no bit flipped, parity check, decode)\n",
    "# Create an instance of the Hamming class and provide an input sequence [1, 0, 0, 1].\n",
    "# Encode the input sequence using the Hamming encoder, resulting in a valid 7-bit codeword.\n",
    "# No bits are flipped intentionally. Perform a parity check on the codeword to check for errors.\n",
    "# Decode the codeword, expecting the original\n",
    "test1_sequence = [1, 0, 0, 1]\n",
    "test1 = Hamming()\n",
    "codeword1 = test1.encoder(test1_sequence)\n",
    "test1.parity_check(codeword1)\n",
    "test1.decoder(codeword1)"
   ]
  },
  {
   "cell_type": "code",
   "execution_count": 6,
   "metadata": {},
   "outputs": [
    {
     "name": "stdout",
     "output_type": "stream",
     "text": [
      "The 7-bit codeword is [0 0 1 1 0 0 1].\n",
      "The error vector is [1 1 0].\n",
      "There was an error occurring upon code transmission and the error can be corrected.\n",
      "The Bitflip occurred at the 3th position.\n",
      "The bit at position 3 was flipped.\n",
      "The corrected codeword is [0 0 1 1 0 0 1].\n",
      "The original 4-bit vector is [1 0 0 1].\n"
     ]
    },
    {
     "data": {
      "text/plain": [
       "array([1, 0, 0, 1])"
      ]
     },
     "execution_count": 6,
     "metadata": {},
     "output_type": "execute_result"
    }
   ],
   "source": [
    "# Test Case 2 (Input given by user, encode, flip 3rd bit (Index 2), parity check, decode)\n",
    "# The input sequence [1, 0, 0, 1] is encoded into a 7-bit codeword. The 3rd bit (Index 2) is then flipped,\n",
    "# resulting in an erroneous codeword. Parity check is performed, and the error is corrected during decoding.\n",
    "test2_sequence = [1, 0, 0, 1]\n",
    "test2 = Hamming()\n",
    "codeword2 = test2.encoder(test2_sequence)\n",
    "codeword2 = Support.bitflip_specific(codeword2, 2)\n",
    "test2.parity_check(codeword2)\n",
    "test2.decoder(codeword2)"
   ]
  },
  {
   "cell_type": "code",
   "execution_count": 7,
   "metadata": {},
   "outputs": [
    {
     "name": "stdout",
     "output_type": "stream",
     "text": [
      "The 7-bit codeword is [0 0 1 1 0 0 1].\n",
      "[1 1 1 1 0 0 1]\n",
      "The error vector is [1 1 0].\n",
      "There was an error occurring upon code transmission and the error can be corrected.\n",
      "The Bitflip occurred at the 3th position.\n",
      "The bit at position 3 was flipped.\n",
      "The corrected codeword is [1 1 0 1 0 0 1].\n",
      "The original 4-bit vector is [0 0 0 1].\n"
     ]
    },
    {
     "data": {
      "text/plain": [
       "array([0, 0, 0, 1])"
      ]
     },
     "execution_count": 7,
     "metadata": {},
     "output_type": "execute_result"
    }
   ],
   "source": [
    "# Test Case 3 (Input given by user, encode, flip two bits at random, parity check, (decode, not possible))\n",
    "# The input sequence [1, 0, 0, 1] is encoded into a 7-bit codeword. Two bits are flipped at random,\n",
    "# resulting in an erroneous codeword. Parity check is performed, and the error is not correctable, preventing decoding.\n",
    "test3_sequence = [int(i) for i in str(1001)]\n",
    "test3 = Hamming()\n",
    "codeword3 = test3.encoder(test3_sequence)\n",
    "codeword3 = Support.bitflip_rand(codeword3, 2)\n",
    "print(codeword3)\n",
    "test3.parity_check(codeword3)\n",
    "test3.decoder(codeword3)"
   ]
  },
  {
   "cell_type": "code",
   "execution_count": null,
   "metadata": {},
   "outputs": [],
   "source": [
    "# Test Case 4 (Input given by user, encode, flip three bits at random (not possible), parity check, (decode, not possible))\n",
    "# The input sequence [1, 0, 0, 1] is encoded into a 7-bit codeword. Attempting to flip three bits at random\n",
    "# results in a ValueError since the Hamming code only allows detection of at most two bitflips.\n",
    "test4_sequence = [int(i) for i in str(1001)]\n",
    "test4 = Hamming()\n",
    "codeword4 = test4.encoder(test4_sequence)\n",
    "codeword4 = Support.bitflip_rand(codeword4, 3)\n",
    "print(codeword4)\n"
   ]
  },
  {
   "cell_type": "code",
   "execution_count": null,
   "metadata": {},
   "outputs": [
    {
     "name": "stdout",
     "output_type": "stream",
     "text": [
      "The 7-bit codeword is [1 0 1 0 1 0 1].\n",
      "The error vector is [0 0 0].\n",
      "There was no error occurring upon code transmission.\n",
      "There is no bitflip error in the codeword to be corrected.\n",
      "The original 4-bit vector is [1 1 0 1].\n"
     ]
    }
   ],
   "source": [
    "# Test Case 5 (Input given by user, encode, no bit flipped, parity check, decode)\n",
    "# The input sequence [1, 1, 0, 1] is encoded into a 7-bit codeword. No bits are flipped intentionally.\n",
    "# Parity check will show no errors, and the decoding process will successfully recover the original input.\n",
    "test5_sequence = [1, 1, 0, 1]\n",
    "test5 = Hamming()\n",
    "codeword5 = test5.encoder(test5_sequence)\n",
    "test5.parity_check(codeword5)\n",
    "codeword5 = test5.decoder(codeword5)"
   ]
  },
  {
   "cell_type": "code",
   "execution_count": null,
   "metadata": {},
   "outputs": [],
   "source": [
    "# Test Case 6 (Input given by user is too long (5 digits), encode, no bit flipped, parity check, decode)\n",
    "# The input sequence [1, 0, 0, 1, 1] is not a valid 4-bit vector for the (7,4)-Hamming Code algorithm.\n",
    "# Attempting to encode this sequence will raise a ValueError.\n",
    "test6_sequence = [1, 0, 0, 1, 1]\n",
    "test6 = Hamming()\n",
    "codeword6 = test6.encoder(test6_sequence)"
   ]
  },
  {
   "cell_type": "code",
   "execution_count": null,
   "metadata": {},
   "outputs": [
    {
     "name": "stdout",
     "output_type": "stream",
     "text": [
      "[0 1 0 1]\n",
      "The 7-bit codeword is [0 1 0 0 1 0 1].\n",
      "The error vector is [0 0 0].\n",
      "There was no error occurring upon code transmission.\n",
      "There is no bitflip error in the codeword to be corrected.\n",
      "The original 4-bit vector is [0 1 0 1].\n"
     ]
    },
    {
     "data": {
      "text/plain": [
       "array([0, 1, 0, 1])"
      ]
     },
     "execution_count": 144,
     "metadata": {},
     "output_type": "execute_result"
    }
   ],
   "source": [
    "# Test Case 7 (Input is randomly created, encode, no bit flipped, parity check, decode)\n",
    "# A random 4-bit vector is created as the input sequence, which is then encoded using the (7,4)-Hamming Code algorithm.\n",
    "# The encoded codeword is subject to a parity check, and the result is then decoded to retrieve the original input.\n",
    "# This test is expected to work as intended.\n",
    "# Other functionalities, such as bitflip creation, have been tested separately in other scenarios and hence, work accordingly.\n",
    "test7_sequence = Support.create_random_vector()\n",
    "print(test7_sequence)\n",
    "test7 = Hamming()\n",
    "codeword7 = test7.encoder(test7_sequence)\n",
    "test7.parity_check(codeword7)\n",
    "test7.decoder(codeword7)"
   ]
  },
  {
   "cell_type": "code",
   "execution_count": null,
   "metadata": {},
   "outputs": [
    {
     "name": "stdout",
     "output_type": "stream",
     "text": [
      "The 7-bit codeword is [0 0 0 0 0 0 0].\n",
      "The error vector is [0 0 0].\n",
      "There was no error occurring upon code transmission.\n",
      "There is no bitflip error in the codeword to be corrected.\n",
      "The original 4-bit vector is [0 0 0 0].\n"
     ]
    },
    {
     "data": {
      "text/plain": [
       "array([0, 0, 0, 0])"
      ]
     },
     "execution_count": 140,
     "metadata": {},
     "output_type": "execute_result"
    }
   ],
   "source": [
    "# Test Case 8 (Input is only 0s)\n",
    "# An input sequence comprising only 0s is provided, and undergoes the various functionalitites of the (7,4)-Hamming Code algorithm.\n",
    "# This test is expected to work as intended, demonstrating the functionality for an all-zero input.\n",
    "test8_sequence = [0, 0, 0, 0]\n",
    "test8 = Hamming()\n",
    "codeword8 = test8.encoder(test8_sequence)\n",
    "test8.parity_check(codeword8)\n",
    "test8.decoder(codeword8)"
   ]
  },
  {
   "cell_type": "code",
   "execution_count": null,
   "metadata": {},
   "outputs": [
    {
     "name": "stdout",
     "output_type": "stream",
     "text": [
      "The error vector is [0 0 0].\n",
      "There was no error occurring upon code transmission.\n"
     ]
    },
    {
     "data": {
      "text/plain": [
       "{'Error syndrome': [0, 0, 0],\n",
       " 'Sum of the Error syndrome': 0,\n",
       " 'Status': 'No Error'}"
      ]
     },
     "execution_count": 136,
     "metadata": {},
     "output_type": "execute_result"
    }
   ],
   "source": [
    "# Test 9 (Input only 0s, but directly tested on functionality of parity check with 7 digits)\n",
    "# Valid output, i.e., function can be used without prior encoding\n",
    "test9_sequence = [0, 0, 0, 0, 0, 0, 0]\n",
    "test9 = Hamming()\n",
    "test9.parity_check(test9_sequence)"
   ]
  },
  {
   "cell_type": "code",
   "execution_count": null,
   "metadata": {},
   "outputs": [
    {
     "name": "stdout",
     "output_type": "stream",
     "text": [
      "The 7-bit codeword is [0 0 0 0 0 0 0].\n"
     ]
    },
    {
     "data": {
      "text/plain": [
       "array([0, 0, 0, 0, 0, 0, 0])"
      ]
     },
     "execution_count": 134,
     "metadata": {},
     "output_type": "execute_result"
    }
   ],
   "source": [
    "# Test Case 10 (Input is only 0s as a string)\n",
    "# An input sequence represented as a string containing only 0s is provided and works as intended, demonstrating the functionality for an all-zero string-input.\n",
    "test10_sequence = \"0000\"\n",
    "test10 = Hamming()\n",
    "test10.encoder(test10_sequence)"
   ]
  },
  {
   "cell_type": "code",
   "execution_count": null,
   "metadata": {},
   "outputs": [
    {
     "name": "stdout",
     "output_type": "stream",
     "text": [
      "The 7-bit codeword is [1 1 1 1 1 1 1].\n",
      "The error vector is [0 0 0].\n",
      "There was no error occurring upon code transmission.\n",
      "There is no bitflip error in the codeword to be corrected.\n",
      "The original 4-bit vector is [1 1 1 1].\n"
     ]
    },
    {
     "data": {
      "text/plain": [
       "array([1, 1, 1, 1])"
      ]
     },
     "execution_count": 133,
     "metadata": {},
     "output_type": "execute_result"
    }
   ],
   "source": [
    "# Test 11 (Input is only 1s)\n",
    "# An input sequence comprising only 1s is provided, and undergoes the various functionalitites of the (7,4)-Hamming Code algorithm.\n",
    "# This test is expected to work as intended, demonstrating the functionality for an all-one input.\n",
    "test11_sequence = [1, 1, 1, 1]\n",
    "test11 = Hamming()\n",
    "codeword11 = test11.encoder(test11_sequence)\n",
    "Support.check_input(codeword11, 7)\n",
    "test11.parity_check(codeword11)\n",
    "test11.decoder(codeword11)"
   ]
  },
  {
   "cell_type": "code",
   "execution_count": null,
   "metadata": {},
   "outputs": [],
   "source": [
    "# Test 12 \n",
    "# The input sequence 0110 contains a leading zero, which may not be handled correctly as an integer by Python.\n",
    "# This may lead to unexpected behavior, and using a string or list representation is recommended.\n",
    "# Will throw error message since leading zeros for integers are not permitted\n",
    "# Moreover, in Support class above specified, that, hence, not of valid input type\n",
    "test12_sequence = 0110\n",
    "test12 = Hamming()\n",
    "test12.encoder(test12_sequence)\n",
    "print(test12)"
   ]
  },
  {
   "cell_type": "code",
   "execution_count": null,
   "metadata": {},
   "outputs": [],
   "source": [
    "# Test 13 \n",
    "# Given input for encoding is an integer, and try to encode afterwards\n",
    "# Will throw an error since input (integer) not given as valid format (list, string, np.array)\n",
    "test13_sequence = 1001\n",
    "test13 = Hamming()\n",
    "codeword13 = test13.encoder(test13_sequence)"
   ]
  },
  {
   "cell_type": "code",
   "execution_count": null,
   "metadata": {},
   "outputs": [
    {
     "name": "stdout",
     "output_type": "stream",
     "text": [
      "[1 0 1 1]\n",
      "[1 0 0 1 1]\n",
      "[1 0 1 1]\n",
      "[1 0 1 1]\n"
     ]
    }
   ],
   "source": [
    "# Cases for testing the check_input function\n",
    "print(Support.check_input([1, 0, 1, 1], 4))\n",
    "# array with five elements can be created (for other use cases the user wants to test), but not encoded due to input check at the \n",
    "# beginning of encoder function and the mismatch in allowed input length\n",
    "print(Support.check_input([1, 0, 0, 1, 1], 5))\n",
    "print(Support.check_input(np.array([1, 0, 1, 1]), 4))\n",
    "print(Support.check_input(\"1 0 1 1\", 4))"
   ]
  },
  {
   "cell_type": "code",
   "execution_count": null,
   "metadata": {},
   "outputs": [
    {
     "name": "stdout",
     "output_type": "stream",
     "text": [
      "[0 0 0 1]\n",
      "The 7-bit codeword is [1 1 0 1 0 0 1].\n",
      "The 7-bit codeword is [1 1 0 1 0 0 1].\n"
     ]
    },
    {
     "data": {
      "text/plain": [
       "array([1, 0, 0, 1, 1, 0, 1])"
      ]
     },
     "execution_count": 169,
     "metadata": {},
     "output_type": "execute_result"
    }
   ],
   "source": [
    "# Tests for testing functions of Support class indivdually\n",
    "sup1 = Support()\n",
    "first_vector = sup1.create_random_vector()\n",
    "print(first_vector)\n",
    "sup1.check_input(Hamming.encoder(first_vector), 7)\n",
    "sup1.bitflip_rand(Hamming.encoder(first_vector), 2)"
   ]
  },
  {
   "cell_type": "markdown",
   "metadata": {},
   "source": [
    "More Tests for Testing more Input-Cases"
   ]
  },
  {
   "cell_type": "code",
   "execution_count": 13,
   "metadata": {},
   "outputs": [
    {
     "name": "stdout",
     "output_type": "stream",
     "text": [
      "The 7-bit codeword is [1 0 1 0 1 0 1].\n",
      "The error vector is [0 0 0].\n",
      "There was no error occurring upon code transmission.\n",
      "There is no bitflip error in the codeword to be corrected.\n",
      "The original 4-bit vector is [1 1 0 1].\n"
     ]
    },
    {
     "data": {
      "text/plain": [
       "array([1, 1, 0, 1])"
      ]
     },
     "execution_count": 13,
     "metadata": {},
     "output_type": "execute_result"
    }
   ],
   "source": [
    "# Test A\n",
    "# Given input sequence for encoding: [1, 1, 0, 1]. After encoding (results in valid 7-bit codeword), no bits flipped and checked parity,\n",
    "# the decoding results in the orignal input without any errors\n",
    "testA_sequence = [1, 1, 0, 1]\n",
    "testA = Hamming()\n",
    "codewordA = testA.encoder(testA_sequence)\n",
    "testA.parity_check(codewordA)\n",
    "testA.decoder(codewordA)"
   ]
  },
  {
   "cell_type": "code",
   "execution_count": 11,
   "metadata": {},
   "outputs": [
    {
     "name": "stdout",
     "output_type": "stream",
     "text": [
      "The 7-bit codeword is [0 1 1 0 0 1 1].\n",
      "The error vector is [0 0 0].\n",
      "There was no error occurring upon code transmission.\n",
      "There is no bitflip error in the codeword to be corrected.\n",
      "The original 4-bit vector is [1 0 1 1].\n"
     ]
    },
    {
     "data": {
      "text/plain": [
       "array([1, 0, 1, 1])"
      ]
     },
     "execution_count": 11,
     "metadata": {},
     "output_type": "execute_result"
    }
   ],
   "source": [
    "# Test B\n",
    "# Given input sequence for encoding: [1, 0, 1, 1]. After encoding (results in valid 7-bit codeword), no bits flipped and checked parity,\n",
    "# the decoding results in the orignal input without any errors\n",
    "testB_sequence = [1, 0, 1, 1]\n",
    "testB = Hamming()\n",
    "codewordB = testB.encoder(testB_sequence)\n",
    "testB.parity_check(codewordB)\n",
    "testB.decoder(codewordB)"
   ]
  },
  {
   "cell_type": "code",
   "execution_count": 12,
   "metadata": {},
   "outputs": [
    {
     "name": "stdout",
     "output_type": "stream",
     "text": [
      "The 7-bit codeword is [0 1 1 1 1 0 0].\n",
      "The error vector is [0 0 0].\n",
      "There was no error occurring upon code transmission.\n",
      "There is no bitflip error in the codeword to be corrected.\n",
      "The original 4-bit vector is [1 1 0 0].\n"
     ]
    },
    {
     "data": {
      "text/plain": [
       "array([1, 1, 0, 0])"
      ]
     },
     "execution_count": 12,
     "metadata": {},
     "output_type": "execute_result"
    }
   ],
   "source": [
    "# Test C\n",
    "# Given input sequence for encoding: [1, 1, 0, 0]. After encoding (results in valid 7-bit codeword), no bits flipped and checked parity,\n",
    "# the decoding results in the orignal input without any errors\n",
    "testC_sequence = [1, 1, 0, 0]\n",
    "testC = Hamming()\n",
    "codewordC = testC.encoder(testC_sequence)\n",
    "testC.parity_check(codewordC)\n",
    "testC.decoder(codewordC)"
   ]
  },
  {
   "cell_type": "code",
   "execution_count": 14,
   "metadata": {},
   "outputs": [
    {
     "name": "stdout",
     "output_type": "stream",
     "text": [
      "The 7-bit codeword is [0 1 1 0 0 1 1].\n",
      "The error vector is [1 1 0].\n",
      "There was an error occurring upon code transmission and the error can be corrected.\n",
      "The Bitflip occurred at the 3th position.\n",
      "The bit at position 3 was flipped.\n",
      "The corrected codeword is [0 1 1 0 0 1 1].\n",
      "The original 4-bit vector is [1 0 1 1].\n"
     ]
    },
    {
     "data": {
      "text/plain": [
       "array([1, 0, 1, 1])"
      ]
     },
     "execution_count": 14,
     "metadata": {},
     "output_type": "execute_result"
    }
   ],
   "source": [
    "# Test D\n",
    "# Given input sequence for encoding: [1, 0, 1, 1]. After encoding (results in valid 7-bit codeword), the third bit is flipped and \n",
    "# parity checked afterwards, the decoding results in the orignal input without any errors, since the flipped bit is flipped back\n",
    "testD_sequence = [1, 0, 1, 1]\n",
    "testD = Hamming()\n",
    "codewordD = test1.encoder(testD_sequence)\n",
    "codewordD = Support.bitflip_specific(codewordD, 2)\n",
    "testD.parity_check(codewordD)\n",
    "testD.decoder(codewordD)"
   ]
  },
  {
   "cell_type": "code",
   "execution_count": 16,
   "metadata": {},
   "outputs": [
    {
     "name": "stdout",
     "output_type": "stream",
     "text": [
      "The 7-bit codeword is [1 0 1 0 1 0 1].\n",
      "The error vector is [1 0 1].\n",
      "There was an error occurring upon code transmission and the error can be corrected.\n",
      "The Bitflip occurred at the 5th position.\n",
      "The bit at position 5 was flipped.\n",
      "The corrected codeword is [1 0 1 0 1 0 1].\n",
      "The original 4-bit vector is [1 1 0 1].\n"
     ]
    },
    {
     "data": {
      "text/plain": [
       "array([1, 1, 0, 1])"
      ]
     },
     "execution_count": 16,
     "metadata": {},
     "output_type": "execute_result"
    }
   ],
   "source": [
    "# Test E\n",
    "# Given input sequence for encoding: [1, 1, 0, 1]. After encoding (results in valid 7-bit codeword), the fifth (second of original input) bit\n",
    "# is flipped and parity checked afterwards, the decoding results in the orignal input without any errors, since the flipped bit is flipped back\n",
    "testE_sequence = [1, 1, 0, 1]\n",
    "testE = Hamming()\n",
    "codewordE = testE.encoder(testE_sequence)\n",
    "codewordE = Support.bitflip_specific(codewordE, 4)\n",
    "testE.parity_check(codewordE)\n",
    "testE.decoder(codewordE)"
   ]
  },
  {
   "cell_type": "code",
   "execution_count": 17,
   "metadata": {},
   "outputs": [
    {
     "name": "stdout",
     "output_type": "stream",
     "text": [
      "The 7-bit codeword is [1 0 1 0 1 0 1].\n",
      "The error vector is [0 0 1].\n",
      "There was an uncorrectable error in the codeword due to an error in a parity bit or two errors in data bits.\n",
      "There was an error in the codeword due to an error in a parity bit or two errors in data bits. In both cases, the codeword cannot be decoded.\n"
     ]
    }
   ],
   "source": [
    "# Test F\n",
    "# Given input sequence for encoding: [1, 1, 0, 1]. After encoding (results in valid 7-bit codeword), the fourth (third parity bit after encoding) bit\n",
    "# is flipped and parity checked afterwards, the decoding results in the orignal input without any errors, since the flipped bit is flipped back\n",
    "testF_sequence = [1, 1, 0, 1]\n",
    "testF = Hamming()\n",
    "codewordF = testF.encoder(testF_sequence)\n",
    "codewordF = Support.bitflip_specific(codewordF, 3)\n",
    "testF.parity_check(codewordF)\n",
    "testF.decoder(codewordF)"
   ]
  },
  {
   "cell_type": "code",
   "execution_count": 18,
   "metadata": {},
   "outputs": [
    {
     "name": "stdout",
     "output_type": "stream",
     "text": [
      "The 7-bit codeword is [1 1 0 1 0 0 1].\n",
      "The error vector is [1 1 1].\n",
      "There was an error occurring upon code transmission and the error can be corrected.\n",
      "The Bitflip occurred at the 7th position.\n",
      "The bit at position 7 was flipped.\n",
      "The corrected codeword is [1 1 0 1 0 0 1].\n",
      "The original 4-bit vector is [0 0 0 1].\n"
     ]
    },
    {
     "data": {
      "text/plain": [
       "array([0, 0, 0, 1])"
      ]
     },
     "execution_count": 18,
     "metadata": {},
     "output_type": "execute_result"
    }
   ],
   "source": [
    "# Test G\n",
    "# Given input sequence for encoding: [0, 0, 0, 1]. After encoding (results in valid 7-bit codeword), the last bit is flipped and \n",
    "# parity checked afterwards, the decoding results in the orignal input without any errors, since the flipped bit is flipped back\n",
    "testG_sequence = [0, 0, 0, 1]\n",
    "testG = Hamming()\n",
    "codewordG = testG.encoder(testG_sequence)\n",
    "codewordG = Support.bitflip_specific(codewordG, 6)\n",
    "testG.parity_check(codewordG)\n",
    "testG.decoder(codewordG)"
   ]
  },
  {
   "cell_type": "code",
   "execution_count": 21,
   "metadata": {},
   "outputs": [
    {
     "name": "stdout",
     "output_type": "stream",
     "text": [
      "The 7-bit codeword is [1 1 0 1 0 0 1].\n",
      "The error vector is [0 1 1].\n",
      "There was an error occurring upon code transmission and the error can be corrected.\n",
      "The Bitflip occurred at the 6th position.\n",
      "The bit at position 6 was flipped.\n",
      "The corrected codeword is [1 1 0 1 0 0 1].\n",
      "The original 4-bit vector is [0 0 0 1].\n"
     ]
    },
    {
     "data": {
      "text/plain": [
       "array([0, 0, 0, 1])"
      ]
     },
     "execution_count": 21,
     "metadata": {},
     "output_type": "execute_result"
    }
   ],
   "source": [
    "# Test H\n",
    "# Given input sequence for encoding: [0, 0, 0, 1]. After encoding (results in valid 7-bit codeword), one random bit is flipped and \n",
    "# parity checked afterwards, the decoding results in the orignal input without any errors (if a data bit was flipped), since the flipped bit can be flipped\n",
    "# back and otherweise will throw an error message since a parity bit was flipped\n",
    "testH_sequence = [0, 0, 0, 1]\n",
    "testH = Hamming()\n",
    "codewordH = testG.encoder(testH_sequence)\n",
    "codewordH = Support.bitflip_rand(codewordH, 1)\n",
    "testH.parity_check(codewordH)\n",
    "testH.decoder(codewordH)"
   ]
  },
  {
   "cell_type": "code",
   "execution_count": 23,
   "metadata": {},
   "outputs": [
    {
     "name": "stdout",
     "output_type": "stream",
     "text": [
      "The 7-bit codeword is [0 0 1 1 0 0 1].\n",
      "The error vector is [1 0 0].\n",
      "There was an uncorrectable error in the codeword due to an error in a parity bit or two errors in data bits.\n",
      "There was an error in the codeword due to an error in a parity bit or two errors in data bits. In both cases, the codeword cannot be decoded.\n"
     ]
    }
   ],
   "source": [
    "# Test I\n",
    "# Given input sequence for encoding: [1, 0, 0, 1]. After encoding (results in valid 7-bit codeword), one random bit is flipped and \n",
    "# parity checked afterwards, the decoding results in the orignal input without any errors (if a data bit was flipped), since the flipped bit can be flipped\n",
    "# back and otherweise will throw an error message since a parity bit was flipped\n",
    "testI_sequence = [1, 0, 0, 1]\n",
    "testI = Hamming()\n",
    "codewordI = testI.encoder(testI_sequence)\n",
    "codewordI = Support.bitflip_rand(codewordI, 1)\n",
    "testI.parity_check(codewordI)\n",
    "testI.decoder(codewordI)"
   ]
  },
  {
   "cell_type": "code",
   "execution_count": 24,
   "metadata": {},
   "outputs": [
    {
     "name": "stdout",
     "output_type": "stream",
     "text": [
      "The 7-bit codeword is [0 0 0 1 1 1 1].\n",
      "The error vector is [0 1 0].\n",
      "There was an uncorrectable error in the codeword due to an error in a parity bit or two errors in data bits.\n",
      "There was an error in the codeword due to an error in a parity bit or two errors in data bits. In both cases, the codeword cannot be decoded.\n"
     ]
    }
   ],
   "source": [
    "# Test J\n",
    "# Given input sequence for encoding: [0, 1, 1, 1]. After encoding (results in valid 7-bit codeword), two random bis are flipped and \n",
    "# parity checked afterwards, the decoding will print the message that the original input cannot be recovered since two bits were flipped\n",
    "testJ_sequence = [0, 1, 1, 1]\n",
    "testJ = Hamming()\n",
    "codewordJ = testJ.encoder(testJ_sequence)\n",
    "codewordJ = Support.bitflip_rand(codewordJ, 2)\n",
    "testJ.parity_check(codewordJ)\n",
    "testJ.decoder(codewordJ)"
   ]
  },
  {
   "cell_type": "code",
   "execution_count": 25,
   "metadata": {},
   "outputs": [
    {
     "name": "stdout",
     "output_type": "stream",
     "text": [
      "The 7-bit codeword is [0 1 0 1 0 1 0].\n",
      "The error vector is [0 1 0].\n",
      "There was an uncorrectable error in the codeword due to an error in a parity bit or two errors in data bits.\n",
      "There was an error in the codeword due to an error in a parity bit or two errors in data bits. In both cases, the codeword cannot be decoded.\n"
     ]
    }
   ],
   "source": [
    "# Test K\n",
    "# Given input sequence for encoding: [0, 0, 1, 0]. After encoding (results in valid 7-bit codeword), two random bis are flipped and \n",
    "# parity checked afterwards, the decoding will print the message that the original input cannot be recovered since two bits were flipped\n",
    "testK_sequence = [0, 0, 1, 0]\n",
    "testK = Hamming()\n",
    "codewordK = testK.encoder(testK_sequence)\n",
    "codewordK = Support.bitflip_rand(codewordK, 2)\n",
    "testK.parity_check(codewordK)\n",
    "testK.decoder(codewordK)"
   ]
  },
  {
   "cell_type": "code",
   "execution_count": 27,
   "metadata": {},
   "outputs": [
    {
     "name": "stdout",
     "output_type": "stream",
     "text": [
      "[1 1 1 0]\n",
      "The 7-bit codeword is [0 0 1 0 1 1 0].\n",
      "The error vector is [1 1 0].\n",
      "There was an error occurring upon code transmission and the error can be corrected.\n",
      "The Bitflip occurred at the 3th position.\n",
      "The bit at position 3 was flipped.\n",
      "The corrected codeword is [0 0 1 0 1 1 0].\n",
      "The original 4-bit vector is [1 1 1 0].\n"
     ]
    },
    {
     "data": {
      "text/plain": [
       "array([1, 1, 1, 0])"
      ]
     },
     "execution_count": 27,
     "metadata": {},
     "output_type": "execute_result"
    }
   ],
   "source": [
    "# Test L\n",
    "# Given input sequence for encoding: A randomly created vector is provided as the input sequence for encoding. \n",
    "# After encoding (results in valid 7-bit codeword), the third bit is flipped and parity checked afterwards, the decoding results \n",
    "# in the orignal input without any errors, since the flipped bit is flipped back\n",
    "testL_sequence = Support.create_random_vector()\n",
    "print(testL_sequence)\n",
    "testL = Hamming()\n",
    "codewordL = testL.encoder(testL_sequence)\n",
    "codewordL = Support.bitflip_specific(codewordL, 2)\n",
    "testL.parity_check(codewordL)\n",
    "testL.decoder(codewordL)"
   ]
  },
  {
   "cell_type": "code",
   "execution_count": 29,
   "metadata": {},
   "outputs": [
    {
     "name": "stdout",
     "output_type": "stream",
     "text": [
      "[0 0 1 0]\n",
      "The 7-bit codeword is [0 1 0 1 0 1 0].\n",
      "The error vector is [1 1 1].\n",
      "There was an error occurring upon code transmission and the error can be corrected.\n",
      "The Bitflip occurred at the 7th position.\n",
      "The bit at position 7 was flipped.\n",
      "The corrected codeword is [0 1 0 1 0 1 0].\n",
      "The original 4-bit vector is [0 0 1 0].\n"
     ]
    },
    {
     "data": {
      "text/plain": [
       "array([0, 0, 1, 0])"
      ]
     },
     "execution_count": 29,
     "metadata": {},
     "output_type": "execute_result"
    }
   ],
   "source": [
    "# Test M\n",
    "# Given input sequence for encoding: A randomly created vector is provided as the input sequence for encoding.\n",
    "# After encoding (results in a valid 7-bit codeword), one random bit is flipped and parity checked afterwards, the decoding results \n",
    "# in the orignal input without any errors (if a data bit was flipped), since the flipped bit can be flipped\n",
    "# back and otherweise will throw an error message since a parity bit was flipped\n",
    "testM_sequence = Support.create_random_vector()\n",
    "print(testM_sequence)\n",
    "testM = Hamming()\n",
    "codewordM = testM.encoder(testM_sequence)\n",
    "codewordM = Support.bitflip_rand(codewordM, 1)\n",
    "testM.parity_check(codewordM)\n",
    "testM.decoder(codewordM)"
   ]
  },
  {
   "cell_type": "code",
   "execution_count": 107,
   "metadata": {},
   "outputs": [
    {
     "name": "stdout",
     "output_type": "stream",
     "text": [
      "[0 1 0 1]\n",
      "The 7-bit codeword is [0 1 0 0 1 0 1].\n",
      "[0 1 0 0 1 0 1]\n",
      "[0 1 0 1 1 0 0]\n",
      "The error vector is [1 1 0].\n",
      "There was an error occurring upon code transmission and the error can be corrected.\n",
      "The Bitflip occurred at the 3th position.\n"
     ]
    },
    {
     "data": {
      "text/plain": [
       "{'Error syndrome': [1, 1, 0],\n",
       " 'Sum of the Error syndrome': 2,\n",
       " 'Status': 'Correctable Error. The bitflip can be recovered'}"
      ]
     },
     "execution_count": 107,
     "metadata": {},
     "output_type": "execute_result"
    }
   ],
   "source": [
    "# Test Case N\n",
    "# Given input sequence for encoding: A randomly created vector is provided as the input sequence for encoding.\n",
    "# After encoding (results in a valid 7-bit codeword), two random bits are flipped. The parity check is performed afterwards. \n",
    "# Hence, the decoding will print the message that the original input cannot be recovered since two bits were flipped\n",
    "\n",
    "testN_sequence = Support.create_random_vector()\n",
    "print(testN_sequence)\n",
    "testN = Hamming()\n",
    "codewordN = testN.encoder(testN_sequence)\n",
    "print(codewordN)\n",
    "codewordN = Support.bitflip_rand(codewordN, 2)\n",
    "print(codewordN)\n",
    "testN.parity_check(codewordN)\n",
    "#testN.decoder(codewordN)"
   ]
  },
  {
   "cell_type": "code",
   "execution_count": null,
   "metadata": {},
   "outputs": [],
   "source": [
    "# Test O\n",
    "# Given input sequence for encoding: A randomly created vector is provided as the input sequence for encoding.\n",
    "# After encoding (results in a valid 7-bit codeword), three random bits are flipped which results in an error message since\n",
    "# three flipped bits cannot be detected and hence are not foreseen as a valid number to flip\n",
    "testO_sequence = Support.create_random_vector()\n",
    "print(testO_sequence)\n",
    "testO = Hamming()\n",
    "codewordO = testO.encoder(testO_sequence)\n",
    "codewordO = Support.bitflip_rand(codewordO, 3)"
   ]
  }
 ],
 "metadata": {
  "kernelspec": {
   "display_name": "base",
   "language": "python",
   "name": "python3"
  },
  "language_info": {
   "codemirror_mode": {
    "name": "ipython",
    "version": 3
   },
   "file_extension": ".py",
   "mimetype": "text/x-python",
   "name": "python",
   "nbconvert_exporter": "python",
   "pygments_lexer": "ipython3",
   "version": "3.11.4"
  }
 },
 "nbformat": 4,
 "nbformat_minor": 2
}
