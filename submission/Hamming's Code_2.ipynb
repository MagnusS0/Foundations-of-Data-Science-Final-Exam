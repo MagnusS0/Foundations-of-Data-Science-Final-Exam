{
 "cells": [
  {
   "cell_type": "code",
   "execution_count": 11,
   "metadata": {},
   "outputs": [],
   "source": [
    "import numpy as np\n",
    "import random"
   ]
  },
  {
   "cell_type": "markdown",
   "metadata": {},
   "source": [
    "Write a simple Hamming encoder program in Python, which, when given a 4-bit binary value, returns the resulting 7-bit binary vector codeword. \n",
    "Also implement the parity check functionality to see if there are any errors, that is to check whether H ∗ cw = 0 holds, where is zero vector."
   ]
  },
  {
   "cell_type": "code",
   "execution_count": 12,
   "metadata": {},
   "outputs": [],
   "source": [
    "GeneratorMatrix = np.array([[1, 1, 0, 1],\n",
    "                         [1, 0, 1, 1],\n",
    "                         [1, 0, 0, 0],\n",
    "                         [0, 1, 1, 1],\n",
    "                         [0, 1, 0, 0],\n",
    "                         [0, 0, 1, 0],\n",
    "                         [0, 0, 0, 1]])\n",
    "\n",
    "ParityCheckMatrix = np.array([[1, 0, 1, 0, 1, 0, 1],\n",
    "                             [0, 1, 1, 0, 0, 1, 1],\n",
    "                             [0, 0, 0, 1, 1, 1, 1]])\n",
    "\n",
    "DecoderMatrix = np.array([[0, 0, 1, 0, 0, 0, 0],\n",
    "                         [0, 0, 0, 0, 1, 0, 0],\n",
    "                         [0, 0, 0, 0, 0, 1, 0],\n",
    "                         [0, 0, 0, 0, 0, 0, 1]])"
   ]
  },
  {
   "cell_type": "code",
   "execution_count": 17,
   "metadata": {},
   "outputs": [],
   "source": [
    "#OLD CODE !!!!!!!!!!!!!!!!!!!!!!!!!!!!!!!!!!!!!!!!!!!!!!!\n",
    "\n",
    "# Function takes 4-digit number and transforms number into an array consisting of those four elements\n",
    "# Resulting array is used to calculate 7-digit codeword with the help of the Generator Matrix (G)\n",
    "\n",
    "def codeword_generator(x):\n",
    "    \n",
    "    lst = [int(i) for i in str(x)]\n",
    "    if len(lst) != 4:\n",
    "        raise ValueError(\"Code must consist of four digits.\")\n",
    "    resulting_array = np.array(lst)\n",
    "    \n",
    "    preliminary_codeword = np.dot(GeneratorMatrix, resulting_array) % 2\n",
    "\n",
    "    # GF(2) arithmetic: put a 1 in our 7-digit codeword, if number is odd and out a 0, if the number is even (e.g., if the resulting number is 2 due to \n",
    "    # two times 1, put a 0 to the resulting codeword, since it may only contain 0s and 1s.)\n",
    "    codeword = np.array(preliminary_codeword)\n",
    "    return codeword\n",
    "\n",
    "# Multiplying the codeword with the Parity-check Matrix (H) must result in the zero Vector\n",
    "# x is the codeword from the first function\n",
    "# if codeword is artificially generated (with bitflip), x is the artificially generated codeword\n",
    "def parity_check(x):\n",
    "\n",
    "    # create array containing of 0s and 1s\n",
    "    error_syndrome = np.dot(ParityCheckMatrix, x) % 2\n",
    "    print(f'The error vector is {error_syndrome}.')\n",
    "    if np.sum(error_syndrome) == 0:\n",
    "        print(f'There was no error occuring upon code-transmission.')\n",
    "    else:\n",
    "        transposed_parity = ParityCheckMatrix.transpose()\n",
    "        list_parity = transposed_parity.tolist()\n",
    "        list_index = list_parity.index(error_syndrome.tolist())\n",
    "        matrix_row_index = list_index + 1\n",
    "        #condition = transposed_parity == error_syndrome\n",
    "        #matrix_row_index = np.where(condition)[0]\n",
    "        print(f'There was an error eoccuring upon code-transmission.\\nThe Bitflip occured at the {matrix_row_index}th position.')\n",
    "    return\n",
    "\n",
    "# decoder function returns 'original' 4-bit vector when given a 7-bit codeword\n",
    "def decoder(x):\n",
    "\n",
    "    if type(x) is not np.ndarray:\n",
    "        x = np.array(x)\n",
    "\n",
    "    if (x.shape[0] != 7) and (x.shape[1] != 1):\n",
    "        raise ValueError ('Function can only decode vectors of shape [7, 1].')\n",
    "    \n",
    "    decoded = np.dot(DecoderMatrix, x)\n",
    "    print(decoded)\n",
    "    binary_decoded = np.mod(decoded, 2)\n",
    "    print(binary_decoded)\n",
    "    return (f'The original 4-bit vector is {binary_decoded}.')"
   ]
  },
  {
   "cell_type": "markdown",
   "metadata": {},
   "source": [
    "Hamming Class or encoding, decoding, parity check"
   ]
  },
  {
   "cell_type": "code",
   "execution_count": 26,
   "metadata": {},
   "outputs": [],
   "source": [
    "class Support():\n",
    "\n",
    "    @staticmethod\n",
    "    def check_input(x, input_length):\n",
    "        # Check if x is an integer, a list, or a NumPy array\n",
    "        if not isinstance(x, (int, list, np.ndarray, str)):\n",
    "            raise TypeError(\"The input must be an integer, a list, a string, or a NumPy array.\")\n",
    "\n",
    "        # If x is an integer, convert it to a list of its digits\n",
    "        if isinstance(x, int):\n",
    "            x = [int(digit) for digit in str(x)]\n",
    "\n",
    "        # Remove white spaces if x is a string\n",
    "        if isinstance(x, str):\n",
    "            x = x.replace(\" \", \"\")\n",
    "            if not x.isdigit():\n",
    "                raise ValueError(\"String input must contain only digits.\")\n",
    "            # Convert string of digits to list of integers\n",
    "            x = [int(digit) for digit in x]\n",
    "\n",
    "        # Convert x to a NumPy array if it's not already\n",
    "        if not isinstance(x, np.ndarray):\n",
    "            try:\n",
    "                x = np.array(x)\n",
    "            except Exception as e:\n",
    "                raise ValueError(f\"Failed to convert input to a NumPy array: {e}\")\n",
    "\n",
    "        # Check if the array has the specified input length\n",
    "        if x.size != input_length:\n",
    "            raise ValueError(f\"The input array must have a size of {input_length}.\")\n",
    "\n",
    "        # Check if the elements are integers\n",
    "        if not np.issubdtype(x.dtype, np.integer):\n",
    "            raise ValueError(\"The input array must contain only integers.\")\n",
    "\n",
    "        # Check if the elements are either 0 or 1\n",
    "        if not np.all(np.isin(x, [0, 1])):\n",
    "            raise ValueError(\"The input array must contain only 0s and 1s.\")\n",
    "\n",
    "        return x"
   ]
  },
  {
   "cell_type": "code",
   "execution_count": 27,
   "metadata": {},
   "outputs": [
    {
     "name": "stdout",
     "output_type": "stream",
     "text": [
      "[1 0 1 1]\n",
      "[1 0 0 1 1]\n",
      "[1 0 1 1]\n",
      "[1 0 1 1]\n"
     ]
    }
   ],
   "source": [
    "# test the check_input function\n",
    "print(Support().check_input([1, 0, 1, 1], 4))\n",
    "print(Support().check_input(10011, 5))\n",
    "print(Support().check_input(np.array([1, 0, 1, 1]), 4))\n",
    "print(Support().check_input(\"1 0 1 1\", 4))"
   ]
  },
  {
   "cell_type": "code",
   "execution_count": 21,
   "metadata": {},
   "outputs": [],
   "source": [
    "class Hamming:\n",
    "    \"\"\"\n",
    "    Class for encoding, decoding and checking Hamming codes.\n",
    "    \"\"\"\n",
    "\n",
    "# Function takes 4-digit number and transforms number into an array consisting of those four elements\n",
    "# Resulting array is used to calculate 7-digit codeword with the help of the Generator Matrix (G)\n",
    "    @staticmethod\n",
    "    def encoder(input):\n",
    "    \n",
    "        binary_list = [int(i) for i in str(input)]\n",
    "        if len(binary_list) != 4:\n",
    "            raise ValueError(\"Code must consist of four digits.\")\n",
    "        resulting_array = np.array(binary_list)\n",
    "    \n",
    "        codeword = np.matmul(GeneratorMatrix, resulting_array) % 2\n",
    "        print(f'The 7-bit codeword is {codeword}.')\n",
    "\n",
    "        # GF(2) arithmetic: put a 1 in our 7-digit codeword, if number is odd and out a 0, if the number is even (e.g., if the resulting number is 2 due to \n",
    "        # two times 1, put a 0 to the resulting codeword, since it may only contain 0s and 1s.)\n",
    "        return codeword\n",
    "    \n",
    "    @staticmethod\n",
    "    def parity_check(codeword):\n",
    "        \n",
    "        error_syndrome = np.matmul(ParityCheckMatrix, codeword) % 2\n",
    "        print(f'The error vector is {error_syndrome}.')\n",
    "\n",
    "        sum_error_syndrome = np.sum(error_syndrome)\n",
    "        if sum_error_syndrome == 0:\n",
    "            print('There was no error occuring upon code-transmission.')\n",
    "        elif sum_error_syndrome == 1:\n",
    "            print('The sum of the error syndrome elements is 1. There was an error occuring upon code-transmission in either one of the parity bits or there were two errors occuring in the data bits. Either way, the error cannot be corrected.')\n",
    "        else: # sum_error_syndrome == 2 or 3\n",
    "            # transpose the matrix to be able to compare our error syndrome with the rows of the transposed matrix\n",
    "            transposed_parity = ParityCheckMatrix.transpose()\n",
    "            # convert the matrix to a list to be able to use the index function\n",
    "            list_parity = transposed_parity.tolist()\n",
    "            list_parity_index = list_parity.index(error_syndrome.tolist())\n",
    "            # add 1 to the index to get the correct row number\n",
    "            bitflip_pos = list_parity_index + 1\n",
    "            print(f'There was an error eoccuring upon code-transmission and the error can be corrected.\\nThe Bitflip occured at the {bitflip_pos}th position.')\n",
    "        return\n",
    "\n",
    "    @staticmethod\n",
    "    def decoder(codeword):\n",
    "\n",
    "        # if type(codeword) is not np.ndarray:\n",
    "        #     codeword = np.array(codeword)\n",
    "\n",
    "        # if (codeword.shape[0] != 7) and (codeword.shape[1] != 1):\n",
    "        #     raise ValueError ('Function can only decode vectors of shape [7, 1].')\n",
    "    \n",
    "        error_syndrome = np.matmul(ParityCheckMatrix, codeword) % 2\n",
    "        sum_error_syndrome = np.sum(error_syndrome)\n",
    "\n",
    "        if sum_error_syndrome == 0:\n",
    "            print('There is no bitflip-error in the codeword to be corrected.')\n",
    "            # decoder function returns 'original' 4-bit vector when given a 7-bit codeword\n",
    "            binary_decoded = np.matmul(DecoderMatrix, codeword) % 2\n",
    "            print(f'The original 4-bit vector is {binary_decoded}.')\n",
    "        elif sum_error_syndrome == 1:\n",
    "            print('The sum of the error syndrome elements is 1. There is an error in either one of the parity bits or there are two errors in the data bits. In these cases, the error cannot be decoded.')\n",
    "        else: # sum_error_syndrome == 2 or 3\n",
    "             # transpose the matrix to be able to compare our error syndrome with the rows of the transposed matrix\n",
    "            transposed_parity = ParityCheckMatrix.transpose()\n",
    "            # convert the matrix to a list to be able to use the index function\n",
    "            list_parity = transposed_parity.tolist()\n",
    "            list_parity_index = list_parity.index(error_syndrome.tolist())\n",
    "            # add 1 to the index to get the correct row number\n",
    "            bitflip_pos = list_parity_index + 1\n",
    "            print(f'The bit at position {bitflip_pos} was flipped.')\n",
    "\n",
    "            # flip the bit at the position of the bitflip\n",
    "            if codeword[bitflip_pos - 1] == 0:\n",
    "                codeword[bitflip_pos - 1] = 1\n",
    "            else:\n",
    "                codeword[bitflip_pos - 1] = 0\n",
    "            print(f'The corrected codeword is {codeword}.')\n",
    "            binary_decoded = np.matmul(DecoderMatrix, codeword) % 2\n",
    "            print(f'The original 4-bit vector is {binary_decoded}.')\n",
    "        return"
   ]
  },
  {
   "cell_type": "code",
   "execution_count": 27,
   "metadata": {},
   "outputs": [
    {
     "name": "stdout",
     "output_type": "stream",
     "text": [
      "The 7-bit codeword is [1 0 1 1 0 1 0].\n",
      "[1 0 1 1 0 1 0]\n"
     ]
    }
   ],
   "source": [
    "example1 = Hamming()\n",
    "\n",
    "\n",
    "codeword = example1.encoder(1010)\n",
    "print(codeword)"
   ]
  },
  {
   "cell_type": "code",
   "execution_count": 28,
   "metadata": {},
   "outputs": [
    {
     "name": "stdout",
     "output_type": "stream",
     "text": [
      "The error vector is [0 0 0].\n",
      "There was no error occuring upon code-transmission.\n"
     ]
    }
   ],
   "source": [
    "example1.parity_check(codeword)\n"
   ]
  },
  {
   "cell_type": "code",
   "execution_count": 29,
   "metadata": {},
   "outputs": [
    {
     "name": "stdout",
     "output_type": "stream",
     "text": [
      "There is no bitflip-error in the codeword to be corrected.\n",
      "The original 4-bit vector is [1 0 1 0].\n"
     ]
    }
   ],
   "source": [
    "example1.decoder(codeword)"
   ]
  },
  {
   "cell_type": "code",
   "execution_count": null,
   "metadata": {},
   "outputs": [],
   "source": []
  },
  {
   "cell_type": "code",
   "execution_count": null,
   "metadata": {},
   "outputs": [
    {
     "name": "stdout",
     "output_type": "stream",
     "text": [
      "[0 0 1 1 0 0 1]\n",
      "The error vector is [0 0 0].\n",
      "There was no error occuring upon code-transmission.\n",
      "None\n",
      "[1 0 0 1]\n",
      "[1 0 0 1]\n",
      "The original 4-bit vector is [1 0 0 1].\n"
     ]
    }
   ],
   "source": [
    "example2 = 1001\n",
    "print(codeword_generator(example2))\n",
    "print(parity_check(codeword))\n",
    "print(decoder(codeword))"
   ]
  },
  {
   "cell_type": "code",
   "execution_count": null,
   "metadata": {},
   "outputs": [
    {
     "name": "stdout",
     "output_type": "stream",
     "text": [
      "[0 1 1 0 0 1 1]\n",
      "The error vector is [0 0 0].\n",
      "There was no error occuring upon code-transmission.\n",
      "None\n",
      "[1 0 1 1]\n",
      "[1 0 1 1]\n",
      "The original 4-bit vector is [1 0 1 1].\n"
     ]
    }
   ],
   "source": [
    "example3 = 1011\n",
    "print(codeword_generator(example3))\n",
    "print(parity_check(codeword))\n",
    "print(decoder(codeword))"
   ]
  },
  {
   "cell_type": "code",
   "execution_count": 26,
   "metadata": {},
   "outputs": [
    {
     "name": "stdout",
     "output_type": "stream",
     "text": [
      "The error vector is [0 0 1].\n",
      "There was an error eoccuring upon code-transmission.\n",
      "The Bitflip occured at the 4th position.\n"
     ]
    }
   ],
   "source": [
    "# Artificial codeword with Bitflip at the 4th position (compared to 7-bit vector codeword of example1 [1, 0, 1, 1, 0, 1, 0])\n",
    "neg_ex1 = [1, 0, 1, 0, 0, 1, 0]\n",
    "negative_example1 = np.array(neg_ex1)\n",
    "parity_check(negative_example1)"
   ]
  },
  {
   "cell_type": "code",
   "execution_count": null,
   "metadata": {},
   "outputs": [
    {
     "name": "stdout",
     "output_type": "stream",
     "text": [
      "The error vector is [0 1 1].\n",
      "There was an error eoccuring upon code-transmission.\n",
      "The Bitflip occured at the 6th position.\n"
     ]
    }
   ],
   "source": [
    "# Artificial codeword with Bitflip at the 6th position (compared to 7-bit vector codeword of example2 [0, 0, 1, 1, 0, 0, 1])\n",
    "neg_ex2 = [0, 0, 1, 1, 0, 1, 1]\n",
    "negative_example2 = np.array(neg_ex2)\n",
    "parity_check(negative_example2)"
   ]
  },
  {
   "cell_type": "code",
   "execution_count": null,
   "metadata": {},
   "outputs": [
    {
     "name": "stdout",
     "output_type": "stream",
     "text": [
      "The error vector is [1 0 0].\n",
      "There was an error eoccuring upon code-transmission.\n",
      "The Bitflip occured at the 1th position.\n"
     ]
    }
   ],
   "source": [
    "# Artificial codeword with Bitflip at the 1th position (compared to 7-bit vector codeword of example3 [0, 1, 1, 0, 0, 1, 1])\n",
    "neg_ex3 = [1, 1, 1, 0, 0, 1, 1]\n",
    "negative_example3 = np.array(neg_ex3)\n",
    "parity_check(negative_example3)"
   ]
  },
  {
   "cell_type": "markdown",
   "metadata": {},
   "source": [
    "Examples for showcasing that partiy check functionality cannot check vectors with two-bit errors."
   ]
  },
  {
   "cell_type": "code",
   "execution_count": null,
   "metadata": {},
   "outputs": [
    {
     "name": "stdout",
     "output_type": "stream",
     "text": [
      "The error vector is [0 1 0].\n",
      "There was an error eoccuring upon code-transmission.\n",
      "The Bitflip occured at the 2th position.\n"
     ]
    }
   ],
   "source": [
    "# Artificial codeword with Bitflips at the 4th and 6th position (compared to 7-bit vector codeword of example1 [1, 0, 1, 1, 0, 1, 0])\n",
    "extreme_neg_ex1 = [1, 0, 1, 0, 0, 0, 0]\n",
    "extr_negative_example1 = np.array(extreme_neg_ex1)\n",
    "parity_check(extr_negative_example1)"
   ]
  },
  {
   "cell_type": "markdown",
   "metadata": {},
   "source": [
    "Parity check function puts forward that the bitflip occured at the second position. This is not correct, since there were two bitflips occurring at the positions of the 4th and 6th elements (3rd and 5th index). This is, according to \"Coding the Matrix\" by Philip N. Klein Page 213, that there are multiple acceptable answers that satisfy the condition of H * e1 = H * e2."
   ]
  },
  {
   "cell_type": "code",
   "execution_count": 24,
   "metadata": {},
   "outputs": [
    {
     "data": {
      "text/plain": [
       "array([[1, 0, 0],\n",
       "       [0, 1, 0],\n",
       "       [1, 1, 0],\n",
       "       [0, 0, 1],\n",
       "       [1, 0, 1],\n",
       "       [0, 1, 1],\n",
       "       [1, 1, 1]])"
      ]
     },
     "execution_count": 24,
     "metadata": {},
     "output_type": "execute_result"
    }
   ],
   "source": [
    "ParityCheckMatrix.transpose()"
   ]
  },
  {
   "cell_type": "code",
   "execution_count": null,
   "metadata": {},
   "outputs": [],
   "source": []
  }
 ],
 "metadata": {
  "kernelspec": {
   "display_name": "base",
   "language": "python",
   "name": "python3"
  },
  "language_info": {
   "codemirror_mode": {
    "name": "ipython",
    "version": 3
   },
   "file_extension": ".py",
   "mimetype": "text/x-python",
   "name": "python",
   "nbconvert_exporter": "python",
   "pygments_lexer": "ipython3",
   "version": "3.10.8"
  }
 },
 "nbformat": 4,
 "nbformat_minor": 2
}
