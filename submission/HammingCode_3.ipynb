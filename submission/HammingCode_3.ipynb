{
 "cells": [
  {
   "cell_type": "markdown",
   "metadata": {},
   "source": [
    "Write a simple Hamming encoder program in Python, which, when given a 4-bit binary value, returns the resulting 7-bit binary vector codeword. \n",
    "Also implement the parity check functionality to see if there are any errors, that is to check whether H ∗ cw = 0 holds, where is zero vector."
   ]
  },
  {
   "cell_type": "markdown",
   "metadata": {},
   "source": [
    "Hamming Class or encoding, decoding, parity check"
   ]
  },
  {
   "cell_type": "code",
   "execution_count": 1,
   "metadata": {},
   "outputs": [],
   "source": [
    "import numpy as np\n",
    "import random"
   ]
  },
  {
   "cell_type": "code",
   "execution_count": 2,
   "metadata": {},
   "outputs": [],
   "source": [
    "class Support:\n",
    "    \"\"\"\n",
    "    Support class with utility methods for Hamming Code operations.\n",
    "    \"\"\"\n",
    "\n",
    "    @staticmethod\n",
    "    def create_random_vector():\n",
    "        \"\"\"\n",
    "        Generate a random 4-bit vector.\n",
    "\n",
    "        Returns:\n",
    "            np.ndarray: Random 4-bit vector.\n",
    "        \"\"\"\n",
    "        random_vector = np.random.randint(0, 2, size=4)\n",
    "        return random_vector\n",
    "\n",
    "    @staticmethod\n",
    "    def check_input(x, input_length):\n",
    "        \"\"\"\n",
    "        Check if the input satisfies the requirements for Hamming Code operations.\n",
    "\n",
    "        Args:\n",
    "            x (int, list, str, np.ndarray): Input to be validated.\n",
    "            input_length (int): Expected length of the input array.\n",
    "\n",
    "        Returns:\n",
    "            np.ndarray: Validated and converted input array.\n",
    "\n",
    "        Raises:\n",
    "            TypeError: If the input type is not int, list, str, or np.ndarray.\n",
    "            ValueError: If input requirements are not met.\n",
    "        \"\"\"\n",
    "        # Check if x is an integer, a list, or a NumPy array\n",
    "        if not isinstance(x, (int, list, np.ndarray, str)):\n",
    "            raise TypeError(\"The input must be an integer, a list, a string, or a NumPy array.\")\n",
    "\n",
    "        # If x is an integer, convert it to a list of its digits\n",
    "        if isinstance(x, int):\n",
    "            x = [int(digit) for digit in str(x)]\n",
    "\n",
    "        # Remove white spaces if x is a string\n",
    "        if isinstance(x, str):\n",
    "            x = x.replace(\" \", \"\")\n",
    "            if not x.isdigit():\n",
    "                raise ValueError(\"String input must contain only digits.\")\n",
    "            # Convert string of digits to list of integers\n",
    "            x = [int(digit) for digit in x]\n",
    "\n",
    "        # Convert x to a NumPy array if it's not already\n",
    "        if not isinstance(x, np.ndarray):\n",
    "            try:\n",
    "                x = np.array(x)\n",
    "            except Exception as e:\n",
    "                raise ValueError(f\"Failed to convert input to a NumPy array: {e}\")\n",
    "\n",
    "        # Check if the array has the specified input length\n",
    "        if x.size != input_length:\n",
    "            raise ValueError(f\"The input array must have a size of {input_length}.\")\n",
    "\n",
    "        # Check if the elements are integers\n",
    "        if not np.issubdtype(x.dtype, np.integer):\n",
    "            raise ValueError(\"The input array must contain only integers.\")\n",
    "\n",
    "        # Check if the elements are either 0 or 1\n",
    "        if not np.all(np.isin(x, [0, 1])):\n",
    "            raise ValueError(\"The input array must contain only 0s and 1s.\")\n",
    "\n",
    "        return x\n",
    "\n",
    "    @staticmethod\n",
    "    def bitflip_rand(x, number_of_bits_to_flip):\n",
    "        \"\"\"\n",
    "        Flip a specified number of random bits in the input array.\n",
    "\n",
    "        Args:\n",
    "            x (np.ndarray): Input array.\n",
    "            number_of_bits_to_flip (int): Number of bits to flip.\n",
    "\n",
    "        Returns:\n",
    "            np.ndarray: Input array with flipped bits.\n",
    "\n",
    "        Raises:\n",
    "            ValueError: If the number_of_bits_to_flip is greater than 2.\n",
    "        \"\"\"\n",
    "        # Check if the input has valid length\n",
    "        x = Support.check_input(x, 7)\n",
    "        # Flip the number of bits specified in number_of_bits_to_flip\n",
    "        if number_of_bits_to_flip > 2:\n",
    "            raise ValueError(\"The Hamming Code only allows detecting at most two bitflips.\")\n",
    "        else:\n",
    "            flipped_bits = set()\n",
    "\n",
    "            while True:\n",
    "                i = random.randint(0, 6)\n",
    "                if i not in flipped_bits:\n",
    "                    flipped_bits.add(i)\n",
    "                    x[i] = 1 - x[i]\n",
    "                if len(flipped_bits) == number_of_bits_to_flip:\n",
    "                    break\n",
    "        return x\n",
    "\n",
    "    @staticmethod\n",
    "    def bitflip_specific(x, bit_to_flip):\n",
    "        \"\"\"\n",
    "        Flip a specific bit in the input array.\n",
    "\n",
    "        Args:\n",
    "            x (np.ndarray): Input array.\n",
    "            bit_to_flip (int): Index of the bit to flip.\n",
    "\n",
    "        Returns:\n",
    "            np.ndarray: Input array with the specified bit flipped.\n",
    "\n",
    "        Raises:\n",
    "            ValueError: If bit_to_flip is greater than 6 (out of bounds).\n",
    "        \"\"\"\n",
    "        # User can choose which bit should be flipped by giving the index of the bit\n",
    "        x = Support.check_input(x, 7)\n",
    "        if bit_to_flip > 6:\n",
    "            raise ValueError(\"The codeword has only 7 bits.\")\n",
    "        else:\n",
    "            x[bit_to_flip] = 1 - x[bit_to_flip]\n",
    "        return x\n"
   ]
  },
  {
   "cell_type": "code",
   "execution_count": 3,
   "metadata": {},
   "outputs": [
    {
     "name": "stdout",
     "output_type": "stream",
     "text": [
      "[1 0 1 1]\n",
      "[1 0 0 1 1]\n",
      "[1 0 1 1]\n",
      "[1 0 1 1]\n"
     ]
    }
   ],
   "source": [
    "# test the check_input function\n",
    "print(Support().check_input([1, 0, 1, 1], 4))\n",
    "print(Support().check_input(10011, 5))\n",
    "print(Support().check_input(np.array([1, 0, 1, 1]), 4))\n",
    "print(Support().check_input(\"1 0 1 1\", 4))"
   ]
  },
  {
   "cell_type": "code",
   "execution_count": 4,
   "metadata": {},
   "outputs": [],
   "source": [
    "class Hamming:\n",
    "    \"\"\"\n",
    "    Class for encoding, decoding, and checking Hamming codes.\n",
    "    \"\"\"\n",
    "    # GeneratorMatrix (G)\n",
    "    G = np.array([[1, 1, 0, 1],\n",
    "                  [1, 0, 1, 1],\n",
    "                  [1, 0, 0, 0],\n",
    "                  [0, 1, 1, 1],\n",
    "                  [0, 1, 0, 0],\n",
    "                  [0, 0, 1, 0],\n",
    "                  [0, 0, 0, 1]])\n",
    "    \n",
    "    # ParityCheckMatrix (H)\n",
    "    H = np.array([[1, 0, 1, 0, 1, 0, 1],\n",
    "                  [0, 1, 1, 0, 0, 1, 1],\n",
    "                  [0, 0, 0, 1, 1, 1, 1]])\n",
    "    \n",
    "    # DecoderMatrix (R)\n",
    "    R = np.array([[0, 0, 1, 0, 0, 0, 0],\n",
    "                  [0, 0, 0, 0, 1, 0, 0],\n",
    "                  [0, 0, 0, 0, 0, 1, 0],\n",
    "                  [0, 0, 0, 0, 0, 0, 1]])\n",
    "\n",
    "    @staticmethod\n",
    "    def encoder(input):\n",
    "        \"\"\"\n",
    "        Encode a 4-bit vector into a 7-bit codeword using the Generator Matrix (G).\n",
    "\n",
    "        Args:\n",
    "            input (int, list, str, np.ndarray): 4-bit vector to be encoded.\n",
    "\n",
    "        Returns:\n",
    "            np.ndarray: 7-bit codeword.\n",
    "        \"\"\"\n",
    "        # Check if the input has valid length\n",
    "        input = Support().check_input(input, 4)\n",
    "    \n",
    "        codeword = np.matmul(Hamming.G, input) % 2\n",
    "        print(f'The 7-bit codeword is {codeword}.')\n",
    "        return codeword\n",
    "    \n",
    "    @staticmethod\n",
    "    def parity_check(codeword):\n",
    "        \"\"\"\n",
    "        Perform a parity check on a 7-bit codeword using the Parity Check Matrix (H).\n",
    "\n",
    "        Args:\n",
    "            codeword (int, list, str, np.ndarray): 7-bit codeword to be checked.\n",
    "\n",
    "        Returns:\n",
    "            None\n",
    "        \"\"\"\n",
    "        # Check if the input has valid length\n",
    "        codeword = Support().check_input(codeword, 7)\n",
    "        \n",
    "        error_syndrome = np.matmul(Hamming.H, codeword) % 2\n",
    "        print(f'The error vector is {error_syndrome}.')\n",
    "\n",
    "        sum_error_syndrome = np.sum(error_syndrome)\n",
    "        if sum_error_syndrome == 0:\n",
    "            print('There was no error occurring upon code transmission.')\n",
    "        elif sum_error_syndrome == 1:\n",
    "            print('The sum of the error syndrome elements is 1. There was an error occurring upon code transmission in either one of the parity bits or there were two errors occurring in the data bits. Either way, the error cannot be corrected.')\n",
    "        else: # sum_error_syndrome == 2 or 3\n",
    "            # transpose the matrix to be able to compare our error syndrome with the rows of the transposed matrix\n",
    "            transposed_parity = Hamming.H.transpose()\n",
    "            # convert the matrix to a list to be able to use the index function\n",
    "            list_parity = transposed_parity.tolist()\n",
    "            list_parity_index = list_parity.index(error_syndrome.tolist())\n",
    "            # add 1 to the index to get the correct row number\n",
    "            bitflip_pos = list_parity_index + 1\n",
    "            print(f'There was an error occurring upon code transmission and the error can be corrected.\\nThe Bitflip occurred at the {bitflip_pos}th position.')\n",
    "        return\n",
    "\n",
    "    @staticmethod\n",
    "    def decoder(codeword):\n",
    "        \"\"\"\n",
    "        Decode a 7-bit codeword into the original 4-bit vector, correcting errors if possible.\n",
    "\n",
    "        Args:\n",
    "            codeword (int, list, str, np.ndarray): 7-bit codeword to be decoded.\n",
    "\n",
    "        Returns:\n",
    "            None\n",
    "        \"\"\"\n",
    "        # Check if the input has valid formal requirements\n",
    "        codeword = Support().check_input(codeword, 7)\n",
    "\n",
    "        error_syndrome = np.matmul(Hamming.H, codeword) % 2\n",
    "        sum_error_syndrome = np.sum(error_syndrome)\n",
    "\n",
    "        if sum_error_syndrome == 0:\n",
    "            print('There is no bitflip error in the codeword to be corrected.')\n",
    "            # decoder function returns 'original' 4-bit vector when given a 7-bit codeword\n",
    "            binary_decoded = np.matmul(Hamming.R, codeword) % 2\n",
    "            print(f'The original 4-bit vector is {binary_decoded}.')\n",
    "        elif sum_error_syndrome == 1:\n",
    "            print('The sum of the error syndrome elements is 1. There is an error in either one of the parity bits or there are two errors in the data bits. In these cases, the error cannot be decoded.')\n",
    "        else: # sum_error_syndrome == 2 or 3\n",
    "             # transpose the matrix to be able to compare our error syndrome with the rows of the transposed matrix\n",
    "            transposed_parity = Hamming.H.transpose()\n",
    "            # convert the matrix to a list to be able to use the index function\n",
    "            list_parity = transposed_parity.tolist()\n",
    "            list_parity_index = list_parity.index(error_syndrome.tolist())\n",
    "            # add 1 to the index to get the correct row number\n",
    "            bitflip_pos = list_parity_index + 1\n",
    "            print(f'The bit at position {bitflip_pos} was flipped.')\n",
    "\n",
    "            # flip the bit at the position of the bitflip\n",
    "            if codeword[bitflip_pos - 1] == 0:\n",
    "                codeword[bitflip_pos - 1] = 1\n",
    "            else:\n",
    "                codeword[bitflip_pos - 1] = 0\n",
    "            print(f'The corrected codeword is {codeword}.')\n",
    "            binary_decoded = np.matmul(Hamming.R, codeword) % 2\n",
    "            print(f'The original 4-bit vector is {binary_decoded}.')\n",
    "        return"
   ]
  },
  {
   "cell_type": "code",
   "execution_count": 5,
   "metadata": {},
   "outputs": [
    {
     "name": "stdout",
     "output_type": "stream",
     "text": [
      "The 7-bit codeword is [1 0 1 1 0 1 0].\n",
      "[1 0 1 1 0 1 0]\n"
     ]
    }
   ],
   "source": [
    "example1 = Hamming()\n",
    "\n",
    "\n",
    "codeword = example1.encoder(1010)\n",
    "print(codeword)"
   ]
  },
  {
   "cell_type": "code",
   "execution_count": 6,
   "metadata": {},
   "outputs": [
    {
     "name": "stdout",
     "output_type": "stream",
     "text": [
      "The error vector is [0 0 0].\n",
      "There was no error occurring upon code transmission.\n"
     ]
    }
   ],
   "source": [
    "example1.parity_check(codeword)\n"
   ]
  },
  {
   "cell_type": "code",
   "execution_count": 7,
   "metadata": {},
   "outputs": [
    {
     "name": "stdout",
     "output_type": "stream",
     "text": [
      "There is no bitflip error in the codeword to be corrected.\n",
      "The original 4-bit vector is [1 0 1 0].\n"
     ]
    }
   ],
   "source": [
    "example1.decoder(codeword)"
   ]
  },
  {
   "cell_type": "code",
   "execution_count": 8,
   "metadata": {},
   "outputs": [],
   "source": [
    "#test the functions in the hamming class\n",
    "example1 = Hamming()\n"
   ]
  },
  {
   "cell_type": "code",
   "execution_count": 9,
   "metadata": {},
   "outputs": [
    {
     "ename": "NameError",
     "evalue": "name 'codeword_generator' is not defined",
     "output_type": "error",
     "traceback": [
      "\u001b[0;31m---------------------------------------------------------------------------\u001b[0m",
      "\u001b[0;31mNameError\u001b[0m                                 Traceback (most recent call last)",
      "\u001b[1;32m/Users/vincetheprince/Documents/WS 23:24/Foundations of Data Science/Exam/HammingCode_2.ipynb Cell 11\u001b[0m line \u001b[0;36m2\n\u001b[1;32m      <a href='vscode-notebook-cell:/Users/vincetheprince/Documents/WS%2023%3A24/Foundations%20of%20Data%20Science/Exam/HammingCode_2.ipynb#X13sZmlsZQ%3D%3D?line=0'>1</a>\u001b[0m example2 \u001b[39m=\u001b[39m \u001b[39m1001\u001b[39m\n\u001b[0;32m----> <a href='vscode-notebook-cell:/Users/vincetheprince/Documents/WS%2023%3A24/Foundations%20of%20Data%20Science/Exam/HammingCode_2.ipynb#X13sZmlsZQ%3D%3D?line=1'>2</a>\u001b[0m \u001b[39mprint\u001b[39m(codeword_generator(example2))\n\u001b[1;32m      <a href='vscode-notebook-cell:/Users/vincetheprince/Documents/WS%2023%3A24/Foundations%20of%20Data%20Science/Exam/HammingCode_2.ipynb#X13sZmlsZQ%3D%3D?line=2'>3</a>\u001b[0m \u001b[39mprint\u001b[39m(parity_check(codeword))\n\u001b[1;32m      <a href='vscode-notebook-cell:/Users/vincetheprince/Documents/WS%2023%3A24/Foundations%20of%20Data%20Science/Exam/HammingCode_2.ipynb#X13sZmlsZQ%3D%3D?line=3'>4</a>\u001b[0m \u001b[39mprint\u001b[39m(decoder(codeword))\n",
      "\u001b[0;31mNameError\u001b[0m: name 'codeword_generator' is not defined"
     ]
    }
   ],
   "source": [
    "example2 = 1001\n",
    "print(codeword_generator(example2))\n",
    "print(parity_check(codeword))\n",
    "print(decoder(codeword))"
   ]
  },
  {
   "cell_type": "code",
   "execution_count": null,
   "metadata": {},
   "outputs": [],
   "source": [
    "example3 = 1011\n",
    "print(codeword_generator(example3))\n",
    "print(parity_check(codeword))\n",
    "print(decoder(codeword)"
   ]
  },
  {
   "cell_type": "code",
   "execution_count": null,
   "metadata": {},
   "outputs": [],
   "source": [
    "# Artificial codeword with Bitflip at the 4th position (compared to 7-bit vector codeword of example1 [1, 0, 1, 1, 0, 1, 0])\n",
    "neg_ex1 = [1, 0, 1, 0, 0, 1, 0]\n",
    "negative_example1 = np.array(neg_ex1)\n",
    "parity_check(negative_example1)"
   ]
  },
  {
   "cell_type": "code",
   "execution_count": null,
   "metadata": {},
   "outputs": [
    {
     "name": "stdout",
     "output_type": "stream",
     "text": [
      "The error vector is [0 1 1].\n",
      "There was an error eoccuring upon code-transmission.\n",
      "The Bitflip occured at the 6th position.\n"
     ]
    }
   ],
   "source": [
    "# Artificial codeword with Bitflip at the 6th position (compared to 7-bit vector codeword of example2 [0, 0, 1, 1, 0, 0, 1])\n",
    "neg_ex2 = [0, 0, 1, 1, 0, 1, 1]\n",
    "negative_example2 = np.array(neg_ex2)\n",
    "parity_check(negative_example2)"
   ]
  },
  {
   "cell_type": "code",
   "execution_count": null,
   "metadata": {},
   "outputs": [
    {
     "name": "stdout",
     "output_type": "stream",
     "text": [
      "The error vector is [1 0 0].\n",
      "There was an error eoccuring upon code-transmission.\n",
      "The Bitflip occured at the 1th position.\n"
     ]
    }
   ],
   "source": [
    "# Artificial codeword with Bitflip at the 1th position (compared to 7-bit vector codeword of example3 [0, 1, 1, 0, 0, 1, 1])\n",
    "neg_ex3 = [1, 1, 1, 0, 0, 1, 1]\n",
    "negative_example3 = np.array(neg_ex3)\n",
    "parity_check(negative_example3)"
   ]
  },
  {
   "cell_type": "markdown",
   "metadata": {},
   "source": [
    "Examples for showcasing that partiy check functionality cannot check vectors with two-bit errors."
   ]
  },
  {
   "cell_type": "code",
   "execution_count": null,
   "metadata": {},
   "outputs": [
    {
     "name": "stdout",
     "output_type": "stream",
     "text": [
      "The error vector is [0 1 0].\n",
      "There was an error eoccuring upon code-transmission.\n",
      "The Bitflip occured at the 2th position.\n"
     ]
    }
   ],
   "source": [
    "# Artificial codeword with Bitflips at the 4th and 6th position (compared to 7-bit vector codeword of example1 [1, 0, 1, 1, 0, 1, 0])\n",
    "extreme_neg_ex1 = [1, 0, 1, 0, 0, 0, 0]\n",
    "extr_negative_example1 = np.array(extreme_neg_ex1)\n",
    "parity_check(extr_negative_example1)"
   ]
  },
  {
   "cell_type": "markdown",
   "metadata": {},
   "source": [
    "Parity check function puts forward that the bitflip occured at the second position. This is not correct, since there were two bitflips occurring at the positions of the 4th and 6th elements (3rd and 5th index). This is, according to \"Coding the Matrix\" by Philip N. Klein Page 213, that there are multiple acceptable answers that satisfy the condition of H * e1 = H * e2."
   ]
  },
  {
   "cell_type": "code",
   "execution_count": null,
   "metadata": {},
   "outputs": [
    {
     "data": {
      "text/plain": [
       "array([[1, 0, 0],\n",
       "       [0, 1, 0],\n",
       "       [1, 1, 0],\n",
       "       [0, 0, 1],\n",
       "       [1, 0, 1],\n",
       "       [0, 1, 1],\n",
       "       [1, 1, 1]])"
      ]
     },
     "execution_count": 24,
     "metadata": {},
     "output_type": "execute_result"
    }
   ],
   "source": [
    "ParityCheckMatrix.transpose()"
   ]
  },
  {
   "cell_type": "code",
   "execution_count": null,
   "metadata": {},
   "outputs": [
    {
     "name": "stdout",
     "output_type": "stream",
     "text": [
      "An average week has 168 hours.\n",
      "Therefore you have 124 hours left to do work for Bubbledick.\n"
     ]
    }
   ],
   "source": [
    "print(f'An average week has {7 * 24} hours.\\nTherefore you have {(7 * 24) - 44} hours left to do work for Bubbledick.')"
   ]
  },
  {
   "cell_type": "code",
   "execution_count": null,
   "metadata": {},
   "outputs": [],
   "source": []
  }
 ],
 "metadata": {
  "kernelspec": {
   "display_name": "base",
   "language": "python",
   "name": "python3"
  },
  "language_info": {
   "codemirror_mode": {
    "name": "ipython",
    "version": 3
   },
   "file_extension": ".py",
   "mimetype": "text/x-python",
   "name": "python",
   "nbconvert_exporter": "python",
   "pygments_lexer": "ipython3",
   "version": "3.11.4"
  }
 },
 "nbformat": 4,
 "nbformat_minor": 2
}
