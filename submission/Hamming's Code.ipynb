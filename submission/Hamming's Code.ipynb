{
 "cells": [
  {
   "cell_type": "code",
   "execution_count": 20,
   "metadata": {},
   "outputs": [],
   "source": [
    "import numpy as np"
   ]
  },
  {
   "cell_type": "markdown",
   "metadata": {},
   "source": [
    "Write a simple Hamming encoder program in Python, which, when given a 4-bit binary value, returns the resulting 7-bit binary vector codeword. \n",
    "Also implement the parity check functionality to see if there are any errors, that is to check whether H ∗ cw = 0 holds, where is zero vector."
   ]
  },
  {
   "cell_type": "code",
   "execution_count": 21,
   "metadata": {},
   "outputs": [],
   "source": [
    "GeneratorMatrix = np.array([[1, 1, 0, 1],\n",
    "                         [1, 0, 1, 1],\n",
    "                         [1, 0, 0, 0],\n",
    "                         [0, 1, 1, 1],\n",
    "                         [0, 1, 0, 0],\n",
    "                         [0, 0, 1, 0],\n",
    "                         [0, 0, 0, 1]])\n",
    "\n",
    "ParityCheckMatrix = np.array([[1, 0, 1, 0, 1, 0, 1],\n",
    "                             [0, 1, 1, 0, 0, 1, 1],\n",
    "                             [0, 0, 0, 1, 1, 1, 1]])\n",
    "\n",
    "DecoderMatrix = np.array([[0, 0, 1, 0, 0, 0, 0],\n",
    "                         [0, 0, 0, 0, 1, 0, 0],\n",
    "                         [0, 0, 0, 0, 0, 1, 0],\n",
    "                         [0, 0, 0, 0, 0, 0, 1]])"
   ]
  },
  {
   "cell_type": "code",
   "execution_count": 129,
   "metadata": {},
   "outputs": [],
   "source": [
    "# Function takes 4-digit number and transforms number into an array consisting of those four elements\n",
    "# Resulting array is used to calculate 7-digit codeword with the help of the Generator Matrix (G)\n",
    "codeword = None\n",
    "\n",
    "def codeword_generator(x):\n",
    "    \n",
    "    global codeword\n",
    "    lst = [int(i) for i in str(x)]\n",
    "    if len(lst) != 4:\n",
    "        raise ValueError(\"Code must consist of four digits.\")\n",
    "    resulting_array = np.array(lst)\n",
    "    \n",
    "    preliminary_codeword = np.dot(GeneratorMatrix, resulting_array)\n",
    "\n",
    "    # GF(2) arithmetic: put a 1 in our 7-digit codeword, if number is odd and out a 0, if the number is even (e.g., if the resulting number is 2 due to \n",
    "    # two times 1, put a 0 to the resulting codeword, since it may only contain 0s and 1s.)\n",
    "    codeword_lst = []\n",
    "    for i in preliminary_codeword:\n",
    "        if i%2 == 0:\n",
    "            codeword_lst.append(0)\n",
    "        else:\n",
    "            codeword_lst.append(1)\n",
    "\n",
    "    codeword = np.array(codeword_lst)\n",
    "    return codeword\n",
    "\n",
    "# Multiplying the codeword with the Parity-check Matrix (H) must result in the zero Vector\n",
    "# x is the codeword from the first function\n",
    "# if codeword is artificially generated (with bitflip), x is the artificially generated codeword\n",
    "def parity_check(x):\n",
    "\n",
    "    first_check = np.dot(ParityCheckMatrix, x)\n",
    "    # create array containing of 0s and 1s\n",
    "    #error_syndrome_lst = [1 if i%2 != 0 else 0 for i in first_check]\n",
    "    #error_syndrome = np.array(error_syndrome_lst)\n",
    "    error_syndrome = np.mod(first_check, 2)\n",
    "    print(f'The error vector is {error_syndrome}.')\n",
    "    if np.sum(error_syndrome) == 0:\n",
    "        print(f'There was no error occuring upon code-transmission.')\n",
    "    else:\n",
    "        transposed_parity = ParityCheckMatrix.transpose()\n",
    "        list_parity = transposed_parity.tolist()\n",
    "        list_index = list_parity.index(error_syndrome.tolist())\n",
    "        matrix_row_index = list_index + 1\n",
    "        #condition = transposed_parity == error_syndrome\n",
    "        #matrix_row_index = np.where(condition)[0]\n",
    "        print(f'There was an error eoccuring upon code-transmission.\\nThe Bitflip occured at the {matrix_row_index}th position.')\n",
    "    return\n",
    "\n",
    "# decoder function returns 'original' 4-bit vector when given a 7-bit codeword\n",
    "def decoder(x):\n",
    "\n",
    "    if type(x) is not np.ndarray:\n",
    "        x = np.array(x)\n",
    "\n",
    "    if (x.shape[0] != 7) and (x.shape[1] != 1):\n",
    "        raise ValueError ('Function can only decode vectors of shape [7, 1].')\n",
    "    \n",
    "    decoded = np.dot(DecoderMatrix, x)\n",
    "    print(decoded)\n",
    "    binary_decoded = np.mod(decoded, 2)\n",
    "    print(binary_decoded)\n",
    "    return (f'The original 4-bit vector is {binary_decoded}.')"
   ]
  },
  {
   "cell_type": "code",
   "execution_count": 130,
   "metadata": {},
   "outputs": [
    {
     "data": {
      "text/plain": [
       "array([1, 0, 1, 1, 0, 1, 0])"
      ]
     },
     "execution_count": 130,
     "metadata": {},
     "output_type": "execute_result"
    }
   ],
   "source": [
    "example1 = 1010\n",
    "\n",
    "codeword_generator(example1)"
   ]
  },
  {
   "cell_type": "code",
   "execution_count": 123,
   "metadata": {},
   "outputs": [
    {
     "name": "stdout",
     "output_type": "stream",
     "text": [
      "The error vector is [0 0 0].\n",
      "There was no error occuring upon code-transmission.\n"
     ]
    }
   ],
   "source": [
    "parity_check(codeword)"
   ]
  },
  {
   "cell_type": "code",
   "execution_count": 131,
   "metadata": {},
   "outputs": [
    {
     "name": "stdout",
     "output_type": "stream",
     "text": [
      "[1 0 1 0]\n",
      "[1 0 1 0]\n"
     ]
    },
    {
     "data": {
      "text/plain": [
       "'The original 4-bit vector is [1 0 1 0].'"
      ]
     },
     "execution_count": 131,
     "metadata": {},
     "output_type": "execute_result"
    }
   ],
   "source": [
    "decoder(codeword)"
   ]
  },
  {
   "cell_type": "code",
   "execution_count": 132,
   "metadata": {},
   "outputs": [
    {
     "name": "stdout",
     "output_type": "stream",
     "text": [
      "[0 0 1 1 0 0 1]\n",
      "The error vector is [0 0 0].\n",
      "There was no error occuring upon code-transmission.\n",
      "None\n",
      "[1 0 0 1]\n",
      "[1 0 0 1]\n",
      "The original 4-bit vector is [1 0 0 1].\n"
     ]
    }
   ],
   "source": [
    "example2 = 1001\n",
    "print(codeword_generator(example2))\n",
    "print(parity_check(codeword))\n",
    "print(decoder(codeword))"
   ]
  },
  {
   "cell_type": "code",
   "execution_count": 133,
   "metadata": {},
   "outputs": [
    {
     "name": "stdout",
     "output_type": "stream",
     "text": [
      "[0 1 1 0 0 1 1]\n",
      "The error vector is [0 0 0].\n",
      "There was no error occuring upon code-transmission.\n",
      "None\n",
      "[1 0 1 1]\n",
      "[1 0 1 1]\n",
      "The original 4-bit vector is [1 0 1 1].\n"
     ]
    }
   ],
   "source": [
    "example3 = 1011\n",
    "print(codeword_generator(example3))\n",
    "print(parity_check(codeword))\n",
    "print(decoder(codeword))"
   ]
  },
  {
   "cell_type": "code",
   "execution_count": 116,
   "metadata": {},
   "outputs": [
    {
     "name": "stdout",
     "output_type": "stream",
     "text": [
      "The error vector is [0 0 1].\n",
      "There was an error eoccuring upon code-transmission.\n",
      "The Bitflip occured at the 4th position.\n"
     ]
    }
   ],
   "source": [
    "# Artificial codeword with Bitflip at the 4th position (compared to 7-bit vector codeword of example1 [1, 0, 1, 1, 0, 1, 0])\n",
    "neg_ex1 = [1, 0, 1, 0, 0, 1, 0]\n",
    "negative_example1 = np.array(neg_ex1)\n",
    "parity_check(negative_example1)"
   ]
  },
  {
   "cell_type": "code",
   "execution_count": 134,
   "metadata": {},
   "outputs": [
    {
     "name": "stdout",
     "output_type": "stream",
     "text": [
      "The error vector is [0 1 1].\n",
      "There was an error eoccuring upon code-transmission.\n",
      "The Bitflip occured at the 6th position.\n"
     ]
    }
   ],
   "source": [
    "# Artificial codeword with Bitflip at the 6th position (compared to 7-bit vector codeword of example2 [0, 0, 1, 1, 0, 0, 1])\n",
    "neg_ex2 = [0, 0, 1, 1, 0, 1, 1]\n",
    "negative_example2 = np.array(neg_ex2)\n",
    "parity_check(negative_example2)"
   ]
  },
  {
   "cell_type": "code",
   "execution_count": 135,
   "metadata": {},
   "outputs": [
    {
     "name": "stdout",
     "output_type": "stream",
     "text": [
      "The error vector is [1 0 0].\n",
      "There was an error eoccuring upon code-transmission.\n",
      "The Bitflip occured at the 1th position.\n"
     ]
    }
   ],
   "source": [
    "# Artificial codeword with Bitflip at the 1th position (compared to 7-bit vector codeword of example3 [0, 1, 1, 0, 0, 1, 1])\n",
    "neg_ex3 = [1, 1, 1, 0, 0, 1, 1]\n",
    "negative_example3 = np.array(neg_ex3)\n",
    "parity_check(negative_example3)"
   ]
  },
  {
   "cell_type": "markdown",
   "metadata": {},
   "source": [
    "Examples for showcasing that partiy check functionality cannot check vectors with two-bit errors."
   ]
  },
  {
   "cell_type": "code",
   "execution_count": 136,
   "metadata": {},
   "outputs": [
    {
     "name": "stdout",
     "output_type": "stream",
     "text": [
      "The error vector is [0 1 0].\n",
      "There was an error eoccuring upon code-transmission.\n",
      "The Bitflip occured at the 2th position.\n"
     ]
    }
   ],
   "source": [
    "# Artificial codeword with Bitflips at the 4th and 6th position (compared to 7-bit vector codeword of example1 [1, 0, 1, 1, 0, 1, 0])\n",
    "extreme_neg_ex1 = [1, 0, 1, 0, 0, 0, 0]\n",
    "extr_negative_example1 = np.array(extreme_neg_ex1)\n",
    "parity_check(extr_negative_example1)"
   ]
  },
  {
   "cell_type": "markdown",
   "metadata": {},
   "source": [
    "Parity check function puts forward that the bitflip occured at the second position. This is not correct, since there were two bitflips occurring at the positions of the 4th and 6th elements (3rd and 5th index). This is, according to \"Coding the Matrix\" by Philip N. Klein Page 213, that there are multiple acceptable answers that satisfy the condition of H * e1 = H * e2."
   ]
  }
 ],
 "metadata": {
  "kernelspec": {
   "display_name": "base",
   "language": "python",
   "name": "python3"
  },
  "language_info": {
   "codemirror_mode": {
    "name": "ipython",
    "version": 3
   },
   "file_extension": ".py",
   "mimetype": "text/x-python",
   "name": "python",
   "nbconvert_exporter": "python",
   "pygments_lexer": "ipython3",
   "version": "3.11.4"
  }
 },
 "nbformat": 4,
 "nbformat_minor": 2
}
